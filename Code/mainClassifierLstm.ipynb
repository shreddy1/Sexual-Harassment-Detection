{
 "cells": [
  {
   "cell_type": "code",
   "execution_count": 1,
   "metadata": {
    "colab": {},
    "colab_type": "code",
    "id": "5cH34whIr1v8"
   },
   "outputs": [],
   "source": [
    "import pandas as pd  \n",
    "import numpy as np"
   ]
  },
  {
   "cell_type": "code",
   "execution_count": 2,
   "metadata": {
    "colab": {},
    "colab_type": "code",
    "id": "pMPhhB7ZsZNz"
   },
   "outputs": [],
   "source": [
    "colsTS = ['sentiment','id','date','query_string','user','text']\n",
    "dataTS = pd.read_csv(\"t140.csv\", encoding='latin-1',names=colsTS)"
   ]
  },
  {
   "cell_type": "code",
   "execution_count": 3,
   "metadata": {
    "colab": {
     "base_uri": "https://localhost:8080/",
     "height": 204
    },
    "colab_type": "code",
    "id": "rU6b-7UGs1dB",
    "outputId": "ce61107d-8644-46f6-bc76-3596873ebd34"
   },
   "outputs": [
    {
     "data": {
      "text/html": [
       "<div>\n",
       "<style scoped>\n",
       "    .dataframe tbody tr th:only-of-type {\n",
       "        vertical-align: middle;\n",
       "    }\n",
       "\n",
       "    .dataframe tbody tr th {\n",
       "        vertical-align: top;\n",
       "    }\n",
       "\n",
       "    .dataframe thead th {\n",
       "        text-align: right;\n",
       "    }\n",
       "</style>\n",
       "<table border=\"1\" class=\"dataframe\">\n",
       "  <thead>\n",
       "    <tr style=\"text-align: right;\">\n",
       "      <th></th>\n",
       "      <th>sentiment</th>\n",
       "      <th>id</th>\n",
       "      <th>date</th>\n",
       "      <th>query_string</th>\n",
       "      <th>user</th>\n",
       "      <th>text</th>\n",
       "    </tr>\n",
       "  </thead>\n",
       "  <tbody>\n",
       "    <tr>\n",
       "      <th>0</th>\n",
       "      <td>0</td>\n",
       "      <td>1467810369</td>\n",
       "      <td>Mon Apr 06 22:19:45 PDT 2009</td>\n",
       "      <td>NO_QUERY</td>\n",
       "      <td>_TheSpecialOne_</td>\n",
       "      <td>@switchfoot http://twitpic.com/2y1zl - Awww, t...</td>\n",
       "    </tr>\n",
       "    <tr>\n",
       "      <th>1</th>\n",
       "      <td>0</td>\n",
       "      <td>1467810672</td>\n",
       "      <td>Mon Apr 06 22:19:49 PDT 2009</td>\n",
       "      <td>NO_QUERY</td>\n",
       "      <td>scotthamilton</td>\n",
       "      <td>is upset that he can't update his Facebook by ...</td>\n",
       "    </tr>\n",
       "    <tr>\n",
       "      <th>2</th>\n",
       "      <td>0</td>\n",
       "      <td>1467810917</td>\n",
       "      <td>Mon Apr 06 22:19:53 PDT 2009</td>\n",
       "      <td>NO_QUERY</td>\n",
       "      <td>mattycus</td>\n",
       "      <td>@Kenichan I dived many times for the ball. Man...</td>\n",
       "    </tr>\n",
       "    <tr>\n",
       "      <th>3</th>\n",
       "      <td>0</td>\n",
       "      <td>1467811184</td>\n",
       "      <td>Mon Apr 06 22:19:57 PDT 2009</td>\n",
       "      <td>NO_QUERY</td>\n",
       "      <td>ElleCTF</td>\n",
       "      <td>my whole body feels itchy and like its on fire</td>\n",
       "    </tr>\n",
       "    <tr>\n",
       "      <th>4</th>\n",
       "      <td>0</td>\n",
       "      <td>1467811193</td>\n",
       "      <td>Mon Apr 06 22:19:57 PDT 2009</td>\n",
       "      <td>NO_QUERY</td>\n",
       "      <td>Karoli</td>\n",
       "      <td>@nationwideclass no, it's not behaving at all....</td>\n",
       "    </tr>\n",
       "  </tbody>\n",
       "</table>\n",
       "</div>"
      ],
      "text/plain": [
       "   sentiment          id                          date query_string  \\\n",
       "0          0  1467810369  Mon Apr 06 22:19:45 PDT 2009     NO_QUERY   \n",
       "1          0  1467810672  Mon Apr 06 22:19:49 PDT 2009     NO_QUERY   \n",
       "2          0  1467810917  Mon Apr 06 22:19:53 PDT 2009     NO_QUERY   \n",
       "3          0  1467811184  Mon Apr 06 22:19:57 PDT 2009     NO_QUERY   \n",
       "4          0  1467811193  Mon Apr 06 22:19:57 PDT 2009     NO_QUERY   \n",
       "\n",
       "              user                                               text  \n",
       "0  _TheSpecialOne_  @switchfoot http://twitpic.com/2y1zl - Awww, t...  \n",
       "1    scotthamilton  is upset that he can't update his Facebook by ...  \n",
       "2         mattycus  @Kenichan I dived many times for the ball. Man...  \n",
       "3          ElleCTF    my whole body feels itchy and like its on fire   \n",
       "4           Karoli  @nationwideclass no, it's not behaving at all....  "
      ]
     },
     "execution_count": 3,
     "metadata": {},
     "output_type": "execute_result"
    }
   ],
   "source": [
    "dataTS.head()"
   ]
  },
  {
   "cell_type": "code",
   "execution_count": 4,
   "metadata": {
    "colab": {
     "base_uri": "https://localhost:8080/",
     "height": 34
    },
    "colab_type": "code",
    "id": "likFzUQttJqM",
    "outputId": "4e9077fa-1d98-4d4a-ffdc-9a80327d6750"
   },
   "outputs": [
    {
     "data": {
      "text/plain": [
       "(1600000, 6)"
      ]
     },
     "execution_count": 4,
     "metadata": {},
     "output_type": "execute_result"
    }
   ],
   "source": [
    "dataTS.shape"
   ]
  },
  {
   "cell_type": "code",
   "execution_count": 5,
   "metadata": {
    "colab": {},
    "colab_type": "code",
    "id": "rYWYUVquuQeV"
   },
   "outputs": [],
   "source": [
    "positive = dataTS.loc[dataTS['sentiment'] ==4] "
   ]
  },
  {
   "cell_type": "code",
   "execution_count": 6,
   "metadata": {
    "colab": {
     "base_uri": "https://localhost:8080/",
     "height": 34
    },
    "colab_type": "code",
    "id": "JNYapZ85u5lV",
    "outputId": "0530ca57-01bc-44bb-8983-f6ea2ab4f061"
   },
   "outputs": [
    {
     "data": {
      "text/plain": [
       "(800000, 6)"
      ]
     },
     "execution_count": 6,
     "metadata": {},
     "output_type": "execute_result"
    }
   ],
   "source": [
    "positive.shape"
   ]
  },
  {
   "cell_type": "code",
   "execution_count": 7,
   "metadata": {
    "colab": {
     "base_uri": "https://localhost:8080/",
     "height": 589
    },
    "colab_type": "code",
    "id": "SI-_higdu8vF",
    "outputId": "d5373cc5-eadd-444b-f42c-42a87da87111"
   },
   "outputs": [
    {
     "data": {
      "text/html": [
       "<div>\n",
       "<style scoped>\n",
       "    .dataframe tbody tr th:only-of-type {\n",
       "        vertical-align: middle;\n",
       "    }\n",
       "\n",
       "    .dataframe tbody tr th {\n",
       "        vertical-align: top;\n",
       "    }\n",
       "\n",
       "    .dataframe thead th {\n",
       "        text-align: right;\n",
       "    }\n",
       "</style>\n",
       "<table border=\"1\" class=\"dataframe\">\n",
       "  <thead>\n",
       "    <tr style=\"text-align: right;\">\n",
       "      <th></th>\n",
       "      <th>sentiment</th>\n",
       "      <th>id</th>\n",
       "      <th>date</th>\n",
       "      <th>query_string</th>\n",
       "      <th>user</th>\n",
       "      <th>text</th>\n",
       "    </tr>\n",
       "  </thead>\n",
       "  <tbody>\n",
       "    <tr>\n",
       "      <th>800000</th>\n",
       "      <td>4</td>\n",
       "      <td>1467822272</td>\n",
       "      <td>Mon Apr 06 22:22:45 PDT 2009</td>\n",
       "      <td>NO_QUERY</td>\n",
       "      <td>ersle</td>\n",
       "      <td>I LOVE @Health4UandPets u guys r the best!!</td>\n",
       "    </tr>\n",
       "    <tr>\n",
       "      <th>800001</th>\n",
       "      <td>4</td>\n",
       "      <td>1467822273</td>\n",
       "      <td>Mon Apr 06 22:22:45 PDT 2009</td>\n",
       "      <td>NO_QUERY</td>\n",
       "      <td>becca210</td>\n",
       "      <td>im meeting up with one of my besties tonight! ...</td>\n",
       "    </tr>\n",
       "    <tr>\n",
       "      <th>800002</th>\n",
       "      <td>4</td>\n",
       "      <td>1467822283</td>\n",
       "      <td>Mon Apr 06 22:22:46 PDT 2009</td>\n",
       "      <td>NO_QUERY</td>\n",
       "      <td>Wingman29</td>\n",
       "      <td>@DaRealSunisaKim Thanks for the Twitter add, S...</td>\n",
       "    </tr>\n",
       "    <tr>\n",
       "      <th>800003</th>\n",
       "      <td>4</td>\n",
       "      <td>1467822287</td>\n",
       "      <td>Mon Apr 06 22:22:46 PDT 2009</td>\n",
       "      <td>NO_QUERY</td>\n",
       "      <td>katarinka</td>\n",
       "      <td>Being sick can be really cheap when it hurts t...</td>\n",
       "    </tr>\n",
       "    <tr>\n",
       "      <th>800004</th>\n",
       "      <td>4</td>\n",
       "      <td>1467822293</td>\n",
       "      <td>Mon Apr 06 22:22:46 PDT 2009</td>\n",
       "      <td>NO_QUERY</td>\n",
       "      <td>_EmilyYoung</td>\n",
       "      <td>@LovesBrooklyn2 he has that effect on everyone</td>\n",
       "    </tr>\n",
       "    <tr>\n",
       "      <th>...</th>\n",
       "      <td>...</td>\n",
       "      <td>...</td>\n",
       "      <td>...</td>\n",
       "      <td>...</td>\n",
       "      <td>...</td>\n",
       "      <td>...</td>\n",
       "    </tr>\n",
       "    <tr>\n",
       "      <th>1599995</th>\n",
       "      <td>4</td>\n",
       "      <td>2193601966</td>\n",
       "      <td>Tue Jun 16 08:40:49 PDT 2009</td>\n",
       "      <td>NO_QUERY</td>\n",
       "      <td>AmandaMarie1028</td>\n",
       "      <td>Just woke up. Having no school is the best fee...</td>\n",
       "    </tr>\n",
       "    <tr>\n",
       "      <th>1599996</th>\n",
       "      <td>4</td>\n",
       "      <td>2193601969</td>\n",
       "      <td>Tue Jun 16 08:40:49 PDT 2009</td>\n",
       "      <td>NO_QUERY</td>\n",
       "      <td>TheWDBoards</td>\n",
       "      <td>TheWDB.com - Very cool to hear old Walt interv...</td>\n",
       "    </tr>\n",
       "    <tr>\n",
       "      <th>1599997</th>\n",
       "      <td>4</td>\n",
       "      <td>2193601991</td>\n",
       "      <td>Tue Jun 16 08:40:49 PDT 2009</td>\n",
       "      <td>NO_QUERY</td>\n",
       "      <td>bpbabe</td>\n",
       "      <td>Are you ready for your MoJo Makeover? Ask me f...</td>\n",
       "    </tr>\n",
       "    <tr>\n",
       "      <th>1599998</th>\n",
       "      <td>4</td>\n",
       "      <td>2193602064</td>\n",
       "      <td>Tue Jun 16 08:40:49 PDT 2009</td>\n",
       "      <td>NO_QUERY</td>\n",
       "      <td>tinydiamondz</td>\n",
       "      <td>Happy 38th Birthday to my boo of alll time!!! ...</td>\n",
       "    </tr>\n",
       "    <tr>\n",
       "      <th>1599999</th>\n",
       "      <td>4</td>\n",
       "      <td>2193602129</td>\n",
       "      <td>Tue Jun 16 08:40:50 PDT 2009</td>\n",
       "      <td>NO_QUERY</td>\n",
       "      <td>RyanTrevMorris</td>\n",
       "      <td>happy #charitytuesday @theNSPCC @SparksCharity...</td>\n",
       "    </tr>\n",
       "  </tbody>\n",
       "</table>\n",
       "<p>800000 rows × 6 columns</p>\n",
       "</div>"
      ],
      "text/plain": [
       "         sentiment          id                          date query_string  \\\n",
       "800000           4  1467822272  Mon Apr 06 22:22:45 PDT 2009     NO_QUERY   \n",
       "800001           4  1467822273  Mon Apr 06 22:22:45 PDT 2009     NO_QUERY   \n",
       "800002           4  1467822283  Mon Apr 06 22:22:46 PDT 2009     NO_QUERY   \n",
       "800003           4  1467822287  Mon Apr 06 22:22:46 PDT 2009     NO_QUERY   \n",
       "800004           4  1467822293  Mon Apr 06 22:22:46 PDT 2009     NO_QUERY   \n",
       "...            ...         ...                           ...          ...   \n",
       "1599995          4  2193601966  Tue Jun 16 08:40:49 PDT 2009     NO_QUERY   \n",
       "1599996          4  2193601969  Tue Jun 16 08:40:49 PDT 2009     NO_QUERY   \n",
       "1599997          4  2193601991  Tue Jun 16 08:40:49 PDT 2009     NO_QUERY   \n",
       "1599998          4  2193602064  Tue Jun 16 08:40:49 PDT 2009     NO_QUERY   \n",
       "1599999          4  2193602129  Tue Jun 16 08:40:50 PDT 2009     NO_QUERY   \n",
       "\n",
       "                    user                                               text  \n",
       "800000             ersle       I LOVE @Health4UandPets u guys r the best!!   \n",
       "800001          becca210  im meeting up with one of my besties tonight! ...  \n",
       "800002         Wingman29  @DaRealSunisaKim Thanks for the Twitter add, S...  \n",
       "800003         katarinka  Being sick can be really cheap when it hurts t...  \n",
       "800004       _EmilyYoung    @LovesBrooklyn2 he has that effect on everyone   \n",
       "...                  ...                                                ...  \n",
       "1599995  AmandaMarie1028  Just woke up. Having no school is the best fee...  \n",
       "1599996      TheWDBoards  TheWDB.com - Very cool to hear old Walt interv...  \n",
       "1599997           bpbabe  Are you ready for your MoJo Makeover? Ask me f...  \n",
       "1599998     tinydiamondz  Happy 38th Birthday to my boo of alll time!!! ...  \n",
       "1599999   RyanTrevMorris  happy #charitytuesday @theNSPCC @SparksCharity...  \n",
       "\n",
       "[800000 rows x 6 columns]"
      ]
     },
     "execution_count": 7,
     "metadata": {},
     "output_type": "execute_result"
    }
   ],
   "source": [
    "positive"
   ]
  },
  {
   "cell_type": "code",
   "execution_count": 8,
   "metadata": {
    "colab": {},
    "colab_type": "code",
    "id": "ycFU-6euxU__"
   },
   "outputs": [],
   "source": [
    "positiveWithJustText=positive[['text','sentiment']]"
   ]
  },
  {
   "cell_type": "code",
   "execution_count": 9,
   "metadata": {
    "colab": {
     "base_uri": "https://localhost:8080/",
     "height": 419
    },
    "colab_type": "code",
    "id": "MW6UzJcszB81",
    "outputId": "1a90865e-8f41-4ba7-d177-6282c0c7c971"
   },
   "outputs": [
    {
     "data": {
      "text/html": [
       "<div>\n",
       "<style scoped>\n",
       "    .dataframe tbody tr th:only-of-type {\n",
       "        vertical-align: middle;\n",
       "    }\n",
       "\n",
       "    .dataframe tbody tr th {\n",
       "        vertical-align: top;\n",
       "    }\n",
       "\n",
       "    .dataframe thead th {\n",
       "        text-align: right;\n",
       "    }\n",
       "</style>\n",
       "<table border=\"1\" class=\"dataframe\">\n",
       "  <thead>\n",
       "    <tr style=\"text-align: right;\">\n",
       "      <th></th>\n",
       "      <th>text</th>\n",
       "      <th>sentiment</th>\n",
       "    </tr>\n",
       "  </thead>\n",
       "  <tbody>\n",
       "    <tr>\n",
       "      <th>800000</th>\n",
       "      <td>I LOVE @Health4UandPets u guys r the best!!</td>\n",
       "      <td>4</td>\n",
       "    </tr>\n",
       "    <tr>\n",
       "      <th>800001</th>\n",
       "      <td>im meeting up with one of my besties tonight! ...</td>\n",
       "      <td>4</td>\n",
       "    </tr>\n",
       "    <tr>\n",
       "      <th>800002</th>\n",
       "      <td>@DaRealSunisaKim Thanks for the Twitter add, S...</td>\n",
       "      <td>4</td>\n",
       "    </tr>\n",
       "    <tr>\n",
       "      <th>800003</th>\n",
       "      <td>Being sick can be really cheap when it hurts t...</td>\n",
       "      <td>4</td>\n",
       "    </tr>\n",
       "    <tr>\n",
       "      <th>800004</th>\n",
       "      <td>@LovesBrooklyn2 he has that effect on everyone</td>\n",
       "      <td>4</td>\n",
       "    </tr>\n",
       "    <tr>\n",
       "      <th>...</th>\n",
       "      <td>...</td>\n",
       "      <td>...</td>\n",
       "    </tr>\n",
       "    <tr>\n",
       "      <th>1599995</th>\n",
       "      <td>Just woke up. Having no school is the best fee...</td>\n",
       "      <td>4</td>\n",
       "    </tr>\n",
       "    <tr>\n",
       "      <th>1599996</th>\n",
       "      <td>TheWDB.com - Very cool to hear old Walt interv...</td>\n",
       "      <td>4</td>\n",
       "    </tr>\n",
       "    <tr>\n",
       "      <th>1599997</th>\n",
       "      <td>Are you ready for your MoJo Makeover? Ask me f...</td>\n",
       "      <td>4</td>\n",
       "    </tr>\n",
       "    <tr>\n",
       "      <th>1599998</th>\n",
       "      <td>Happy 38th Birthday to my boo of alll time!!! ...</td>\n",
       "      <td>4</td>\n",
       "    </tr>\n",
       "    <tr>\n",
       "      <th>1599999</th>\n",
       "      <td>happy #charitytuesday @theNSPCC @SparksCharity...</td>\n",
       "      <td>4</td>\n",
       "    </tr>\n",
       "  </tbody>\n",
       "</table>\n",
       "<p>800000 rows × 2 columns</p>\n",
       "</div>"
      ],
      "text/plain": [
       "                                                      text  sentiment\n",
       "800000        I LOVE @Health4UandPets u guys r the best!!           4\n",
       "800001   im meeting up with one of my besties tonight! ...          4\n",
       "800002   @DaRealSunisaKim Thanks for the Twitter add, S...          4\n",
       "800003   Being sick can be really cheap when it hurts t...          4\n",
       "800004     @LovesBrooklyn2 he has that effect on everyone           4\n",
       "...                                                    ...        ...\n",
       "1599995  Just woke up. Having no school is the best fee...          4\n",
       "1599996  TheWDB.com - Very cool to hear old Walt interv...          4\n",
       "1599997  Are you ready for your MoJo Makeover? Ask me f...          4\n",
       "1599998  Happy 38th Birthday to my boo of alll time!!! ...          4\n",
       "1599999  happy #charitytuesday @theNSPCC @SparksCharity...          4\n",
       "\n",
       "[800000 rows x 2 columns]"
      ]
     },
     "execution_count": 9,
     "metadata": {},
     "output_type": "execute_result"
    }
   ],
   "source": [
    "positiveWithJustText"
   ]
  },
  {
   "cell_type": "code",
   "execution_count": 10,
   "metadata": {
    "colab": {},
    "colab_type": "code",
    "id": "OHeVcTuezDN5"
   },
   "outputs": [],
   "source": [
    "colsSR = ['title', 'score', 'id', 'subreddit', 'url', 'num_comments', 'body', 'created','comments','article']\n",
    "dataSR = pd.read_csv(\"subreditupdated.csv\",names=colsSR)"
   ]
  },
  {
   "cell_type": "code",
   "execution_count": 11,
   "metadata": {
    "colab": {},
    "colab_type": "code",
    "id": "5ycA124G0wYT"
   },
   "outputs": [],
   "source": [
    "dataSR = dataSR.iloc[1:]"
   ]
  },
  {
   "cell_type": "code",
   "execution_count": 12,
   "metadata": {
    "colab": {
     "base_uri": "https://localhost:8080/",
     "height": 1000
    },
    "colab_type": "code",
    "id": "iR7o7pbQ3-PG",
    "outputId": "b23de0fb-67ee-4a71-cb8a-d210e32646c8"
   },
   "outputs": [
    {
     "data": {
      "text/html": [
       "<div>\n",
       "<style scoped>\n",
       "    .dataframe tbody tr th:only-of-type {\n",
       "        vertical-align: middle;\n",
       "    }\n",
       "\n",
       "    .dataframe tbody tr th {\n",
       "        vertical-align: top;\n",
       "    }\n",
       "\n",
       "    .dataframe thead th {\n",
       "        text-align: right;\n",
       "    }\n",
       "</style>\n",
       "<table border=\"1\" class=\"dataframe\">\n",
       "  <thead>\n",
       "    <tr style=\"text-align: right;\">\n",
       "      <th></th>\n",
       "      <th>title</th>\n",
       "      <th>score</th>\n",
       "      <th>id</th>\n",
       "      <th>subreddit</th>\n",
       "      <th>url</th>\n",
       "      <th>num_comments</th>\n",
       "      <th>body</th>\n",
       "      <th>created</th>\n",
       "      <th>comments</th>\n",
       "      <th>article</th>\n",
       "    </tr>\n",
       "  </thead>\n",
       "  <tbody>\n",
       "    <tr>\n",
       "      <th>1</th>\n",
       "      <td>r/SexualHarassment needs moderators and is cur...</td>\n",
       "      <td>4</td>\n",
       "      <td>dzdoq9</td>\n",
       "      <td>SexualHarassment</td>\n",
       "      <td>https://www.reddit.com/r/SexualHarassment/comm...</td>\n",
       "      <td>0</td>\n",
       "      <td>If you're interested and willing to moderate a...</td>\n",
       "      <td>1574337883.0</td>\n",
       "      <td>[]</td>\n",
       "      <td>NaN</td>\n",
       "    </tr>\n",
       "    <tr>\n",
       "      <th>2</th>\n",
       "      <td>My 'fun' experience with my step family</td>\n",
       "      <td>6</td>\n",
       "      <td>a7jyu9</td>\n",
       "      <td>SexualHarassment</td>\n",
       "      <td>https://www.reddit.com/r/SexualHarassment/comm...</td>\n",
       "      <td>4</td>\n",
       "      <td>I'm not sure if this would be considered as se...</td>\n",
       "      <td>1545230567.0</td>\n",
       "      <td>['You definitely need to tell a trusted adult ...</td>\n",
       "      <td>NaN</td>\n",
       "    </tr>\n",
       "    <tr>\n",
       "      <th>3</th>\n",
       "      <td>Star Economist Roland G. Fryer Jr. at Harvard ...</td>\n",
       "      <td>1</td>\n",
       "      <td>a6cnzf</td>\n",
       "      <td>SexualHarassment</td>\n",
       "      <td>https://www.nytimes.com/2018/12/14/business/ec...</td>\n",
       "      <td>0</td>\n",
       "      <td>NaN</td>\n",
       "      <td>1544880349.0</td>\n",
       "      <td>[]</td>\n",
       "      <td>But in interviews with The New York Times and ...</td>\n",
       "    </tr>\n",
       "    <tr>\n",
       "      <th>4</th>\n",
       "      <td>Why is Sexual Harassment Training So Important?</td>\n",
       "      <td>2</td>\n",
       "      <td>a62f3t</td>\n",
       "      <td>SexualHarassment</td>\n",
       "      <td>https://www.sentrient.com.au/blog/why-is-sexua...</td>\n",
       "      <td>0</td>\n",
       "      <td>NaN</td>\n",
       "      <td>1544798854.0</td>\n",
       "      <td>[]</td>\n",
       "      <td>Every year, sexual harassment in the workplace...</td>\n",
       "    </tr>\n",
       "    <tr>\n",
       "      <th>5</th>\n",
       "      <td>My mom blabbed about my sexual harassment</td>\n",
       "      <td>3</td>\n",
       "      <td>a5j99n</td>\n",
       "      <td>SexualHarassment</td>\n",
       "      <td>https://www.reddit.com/r/SexualHarassment/comm...</td>\n",
       "      <td>1</td>\n",
       "      <td>I was sexually harassed at work by a customer,...</td>\n",
       "      <td>1544658264.0</td>\n",
       "      <td>[\"You're mom might have done wrong telling whe...</td>\n",
       "      <td>NaN</td>\n",
       "    </tr>\n",
       "    <tr>\n",
       "      <th>...</th>\n",
       "      <td>...</td>\n",
       "      <td>...</td>\n",
       "      <td>...</td>\n",
       "      <td>...</td>\n",
       "      <td>...</td>\n",
       "      <td>...</td>\n",
       "      <td>...</td>\n",
       "      <td>...</td>\n",
       "      <td>...</td>\n",
       "      <td>...</td>\n",
       "    </tr>\n",
       "    <tr>\n",
       "      <th>301</th>\n",
       "      <td>I perpetuated a cycle of abuse and I am lookin...</td>\n",
       "      <td>2</td>\n",
       "      <td>9k4n6h</td>\n",
       "      <td>sexuallyabused</td>\n",
       "      <td>https://www.reddit.com/r/sexuallyabused/commen...</td>\n",
       "      <td>2</td>\n",
       "      <td>This has been going through my mind for a few ...</td>\n",
       "      <td>1538323575.0</td>\n",
       "      <td>['I am so sorry for the experiences you have e...</td>\n",
       "      <td>NaN</td>\n",
       "    </tr>\n",
       "    <tr>\n",
       "      <th>302</th>\n",
       "      <td>EXCLUSIVE: WSJ Video Editor Fired For Sexual M...</td>\n",
       "      <td>1</td>\n",
       "      <td>84tyou</td>\n",
       "      <td>sexuallyabused</td>\n",
       "      <td>http://dailycaller.com/2018/03/14/wsj-video-ed...</td>\n",
       "      <td>0</td>\n",
       "      <td>NaN</td>\n",
       "      <td>1521218155.0</td>\n",
       "      <td>[]</td>\n",
       "      <td>A Wall Street Journal spokesperson confirmed t...</td>\n",
       "    </tr>\n",
       "    <tr>\n",
       "      <th>303</th>\n",
       "      <td>Why are my sexual relations so bad?</td>\n",
       "      <td>1</td>\n",
       "      <td>7cucr3</td>\n",
       "      <td>sexuallyabused</td>\n",
       "      <td>https://www.reddit.com/r/sexuallyabused/commen...</td>\n",
       "      <td>2</td>\n",
       "      <td>I really dont remember it happening but I want...</td>\n",
       "      <td>1510677989.0</td>\n",
       "      <td>['wait you get cramps when you need to poop? i...</td>\n",
       "      <td>NaN</td>\n",
       "    </tr>\n",
       "    <tr>\n",
       "      <th>304</th>\n",
       "      <td>Mother comes home to find child covered in blo...</td>\n",
       "      <td>1</td>\n",
       "      <td>6pivpr</td>\n",
       "      <td>sexuallyabused</td>\n",
       "      <td>https://www.yahoo.com/news/mother-comes-home-c...</td>\n",
       "      <td>0</td>\n",
       "      <td>NaN</td>\n",
       "      <td>1501042441.0</td>\n",
       "      <td>[]</td>\n",
       "      <td>Brentley Jason Breyers is a suspect in the sex...</td>\n",
       "    </tr>\n",
       "    <tr>\n",
       "      <th>305</th>\n",
       "      <td>I don't know what to do</td>\n",
       "      <td>2</td>\n",
       "      <td>603a67</td>\n",
       "      <td>sexuallyabused</td>\n",
       "      <td>https://www.reddit.com/r/sexuallyabused/commen...</td>\n",
       "      <td>1</td>\n",
       "      <td>I'm embarrassed to write/post this on my main ...</td>\n",
       "      <td>1489857309.0</td>\n",
       "      <td>['Hey PM me if needed. I am also on your boat ...</td>\n",
       "      <td>NaN</td>\n",
       "    </tr>\n",
       "  </tbody>\n",
       "</table>\n",
       "<p>305 rows × 10 columns</p>\n",
       "</div>"
      ],
      "text/plain": [
       "                                                 title score      id  \\\n",
       "1    r/SexualHarassment needs moderators and is cur...     4  dzdoq9   \n",
       "2              My 'fun' experience with my step family     6  a7jyu9   \n",
       "3    Star Economist Roland G. Fryer Jr. at Harvard ...     1  a6cnzf   \n",
       "4      Why is Sexual Harassment Training So Important?     2  a62f3t   \n",
       "5            My mom blabbed about my sexual harassment     3  a5j99n   \n",
       "..                                                 ...   ...     ...   \n",
       "301  I perpetuated a cycle of abuse and I am lookin...     2  9k4n6h   \n",
       "302  EXCLUSIVE: WSJ Video Editor Fired For Sexual M...     1  84tyou   \n",
       "303                Why are my sexual relations so bad?     1  7cucr3   \n",
       "304  Mother comes home to find child covered in blo...     1  6pivpr   \n",
       "305                            I don't know what to do     2  603a67   \n",
       "\n",
       "            subreddit                                                url  \\\n",
       "1    SexualHarassment  https://www.reddit.com/r/SexualHarassment/comm...   \n",
       "2    SexualHarassment  https://www.reddit.com/r/SexualHarassment/comm...   \n",
       "3    SexualHarassment  https://www.nytimes.com/2018/12/14/business/ec...   \n",
       "4    SexualHarassment  https://www.sentrient.com.au/blog/why-is-sexua...   \n",
       "5    SexualHarassment  https://www.reddit.com/r/SexualHarassment/comm...   \n",
       "..                ...                                                ...   \n",
       "301    sexuallyabused  https://www.reddit.com/r/sexuallyabused/commen...   \n",
       "302    sexuallyabused  http://dailycaller.com/2018/03/14/wsj-video-ed...   \n",
       "303    sexuallyabused  https://www.reddit.com/r/sexuallyabused/commen...   \n",
       "304    sexuallyabused  https://www.yahoo.com/news/mother-comes-home-c...   \n",
       "305    sexuallyabused  https://www.reddit.com/r/sexuallyabused/commen...   \n",
       "\n",
       "    num_comments                                               body  \\\n",
       "1              0  If you're interested and willing to moderate a...   \n",
       "2              4  I'm not sure if this would be considered as se...   \n",
       "3              0                                                NaN   \n",
       "4              0                                                NaN   \n",
       "5              1  I was sexually harassed at work by a customer,...   \n",
       "..           ...                                                ...   \n",
       "301            2  This has been going through my mind for a few ...   \n",
       "302            0                                                NaN   \n",
       "303            2  I really dont remember it happening but I want...   \n",
       "304            0                                                NaN   \n",
       "305            1  I'm embarrassed to write/post this on my main ...   \n",
       "\n",
       "          created                                           comments  \\\n",
       "1    1574337883.0                                                 []   \n",
       "2    1545230567.0  ['You definitely need to tell a trusted adult ...   \n",
       "3    1544880349.0                                                 []   \n",
       "4    1544798854.0                                                 []   \n",
       "5    1544658264.0  [\"You're mom might have done wrong telling whe...   \n",
       "..            ...                                                ...   \n",
       "301  1538323575.0  ['I am so sorry for the experiences you have e...   \n",
       "302  1521218155.0                                                 []   \n",
       "303  1510677989.0  ['wait you get cramps when you need to poop? i...   \n",
       "304  1501042441.0                                                 []   \n",
       "305  1489857309.0  ['Hey PM me if needed. I am also on your boat ...   \n",
       "\n",
       "                                               article  \n",
       "1                                                  NaN  \n",
       "2                                                  NaN  \n",
       "3    But in interviews with The New York Times and ...  \n",
       "4    Every year, sexual harassment in the workplace...  \n",
       "5                                                  NaN  \n",
       "..                                                 ...  \n",
       "301                                                NaN  \n",
       "302  A Wall Street Journal spokesperson confirmed t...  \n",
       "303                                                NaN  \n",
       "304  Brentley Jason Breyers is a suspect in the sex...  \n",
       "305                                                NaN  \n",
       "\n",
       "[305 rows x 10 columns]"
      ]
     },
     "execution_count": 12,
     "metadata": {},
     "output_type": "execute_result"
    }
   ],
   "source": [
    "dataSR"
   ]
  },
  {
   "cell_type": "code",
   "execution_count": 13,
   "metadata": {
    "colab": {},
    "colab_type": "code",
    "id": "2FVZ9CfF02tL"
   },
   "outputs": [],
   "source": [
    "negBody=dataSR[['body']]"
   ]
  },
  {
   "cell_type": "code",
   "execution_count": 14,
   "metadata": {
    "colab": {
     "base_uri": "https://localhost:8080/",
     "height": 419
    },
    "colab_type": "code",
    "id": "XHmj6TSG1fDC",
    "outputId": "43684c65-7c26-4f5c-ee33-ebbca280f023"
   },
   "outputs": [
    {
     "data": {
      "text/html": [
       "<div>\n",
       "<style scoped>\n",
       "    .dataframe tbody tr th:only-of-type {\n",
       "        vertical-align: middle;\n",
       "    }\n",
       "\n",
       "    .dataframe tbody tr th {\n",
       "        vertical-align: top;\n",
       "    }\n",
       "\n",
       "    .dataframe thead th {\n",
       "        text-align: right;\n",
       "    }\n",
       "</style>\n",
       "<table border=\"1\" class=\"dataframe\">\n",
       "  <thead>\n",
       "    <tr style=\"text-align: right;\">\n",
       "      <th></th>\n",
       "      <th>body</th>\n",
       "    </tr>\n",
       "  </thead>\n",
       "  <tbody>\n",
       "    <tr>\n",
       "      <th>1</th>\n",
       "      <td>If you're interested and willing to moderate a...</td>\n",
       "    </tr>\n",
       "    <tr>\n",
       "      <th>2</th>\n",
       "      <td>I'm not sure if this would be considered as se...</td>\n",
       "    </tr>\n",
       "    <tr>\n",
       "      <th>3</th>\n",
       "      <td>NaN</td>\n",
       "    </tr>\n",
       "    <tr>\n",
       "      <th>4</th>\n",
       "      <td>NaN</td>\n",
       "    </tr>\n",
       "    <tr>\n",
       "      <th>5</th>\n",
       "      <td>I was sexually harassed at work by a customer,...</td>\n",
       "    </tr>\n",
       "    <tr>\n",
       "      <th>...</th>\n",
       "      <td>...</td>\n",
       "    </tr>\n",
       "    <tr>\n",
       "      <th>301</th>\n",
       "      <td>This has been going through my mind for a few ...</td>\n",
       "    </tr>\n",
       "    <tr>\n",
       "      <th>302</th>\n",
       "      <td>NaN</td>\n",
       "    </tr>\n",
       "    <tr>\n",
       "      <th>303</th>\n",
       "      <td>I really dont remember it happening but I want...</td>\n",
       "    </tr>\n",
       "    <tr>\n",
       "      <th>304</th>\n",
       "      <td>NaN</td>\n",
       "    </tr>\n",
       "    <tr>\n",
       "      <th>305</th>\n",
       "      <td>I'm embarrassed to write/post this on my main ...</td>\n",
       "    </tr>\n",
       "  </tbody>\n",
       "</table>\n",
       "<p>305 rows × 1 columns</p>\n",
       "</div>"
      ],
      "text/plain": [
       "                                                  body\n",
       "1    If you're interested and willing to moderate a...\n",
       "2    I'm not sure if this would be considered as se...\n",
       "3                                                  NaN\n",
       "4                                                  NaN\n",
       "5    I was sexually harassed at work by a customer,...\n",
       "..                                                 ...\n",
       "301  This has been going through my mind for a few ...\n",
       "302                                                NaN\n",
       "303  I really dont remember it happening but I want...\n",
       "304                                                NaN\n",
       "305  I'm embarrassed to write/post this on my main ...\n",
       "\n",
       "[305 rows x 1 columns]"
      ]
     },
     "execution_count": 14,
     "metadata": {},
     "output_type": "execute_result"
    }
   ],
   "source": [
    "negBody"
   ]
  },
  {
   "cell_type": "code",
   "execution_count": 15,
   "metadata": {
    "colab": {},
    "colab_type": "code",
    "id": "Nhhpob2M1gfN"
   },
   "outputs": [],
   "source": [
    "negBody=negBody.dropna()"
   ]
  },
  {
   "cell_type": "code",
   "execution_count": 16,
   "metadata": {
    "colab": {
     "base_uri": "https://localhost:8080/",
     "height": 419
    },
    "colab_type": "code",
    "id": "jW5StyKUOkDx",
    "outputId": "308d90c6-3727-47e2-8156-87f0f05ccd0e"
   },
   "outputs": [
    {
     "data": {
      "text/html": [
       "<div>\n",
       "<style scoped>\n",
       "    .dataframe tbody tr th:only-of-type {\n",
       "        vertical-align: middle;\n",
       "    }\n",
       "\n",
       "    .dataframe tbody tr th {\n",
       "        vertical-align: top;\n",
       "    }\n",
       "\n",
       "    .dataframe thead th {\n",
       "        text-align: right;\n",
       "    }\n",
       "</style>\n",
       "<table border=\"1\" class=\"dataframe\">\n",
       "  <thead>\n",
       "    <tr style=\"text-align: right;\">\n",
       "      <th></th>\n",
       "      <th>body</th>\n",
       "    </tr>\n",
       "  </thead>\n",
       "  <tbody>\n",
       "    <tr>\n",
       "      <th>1</th>\n",
       "      <td>If you're interested and willing to moderate a...</td>\n",
       "    </tr>\n",
       "    <tr>\n",
       "      <th>2</th>\n",
       "      <td>I'm not sure if this would be considered as se...</td>\n",
       "    </tr>\n",
       "    <tr>\n",
       "      <th>5</th>\n",
       "      <td>I was sexually harassed at work by a customer,...</td>\n",
       "    </tr>\n",
       "    <tr>\n",
       "      <th>6</th>\n",
       "      <td>hello!\\n\\n&amp;#x200B;\\n\\nI am a victim of sexual ...</td>\n",
       "    </tr>\n",
       "    <tr>\n",
       "      <th>7</th>\n",
       "      <td>HotNewHipHop: Neil deGrasse Tyson Accused Of S...</td>\n",
       "    </tr>\n",
       "    <tr>\n",
       "      <th>...</th>\n",
       "      <td>...</td>\n",
       "    </tr>\n",
       "    <tr>\n",
       "      <th>296</th>\n",
       "      <td>Im 18 but at the time I was a bit younger. I d...</td>\n",
       "    </tr>\n",
       "    <tr>\n",
       "      <th>299</th>\n",
       "      <td>When I[22M] was a young boy, around 10 years o...</td>\n",
       "    </tr>\n",
       "    <tr>\n",
       "      <th>301</th>\n",
       "      <td>This has been going through my mind for a few ...</td>\n",
       "    </tr>\n",
       "    <tr>\n",
       "      <th>303</th>\n",
       "      <td>I really dont remember it happening but I want...</td>\n",
       "    </tr>\n",
       "    <tr>\n",
       "      <th>305</th>\n",
       "      <td>I'm embarrassed to write/post this on my main ...</td>\n",
       "    </tr>\n",
       "  </tbody>\n",
       "</table>\n",
       "<p>220 rows × 1 columns</p>\n",
       "</div>"
      ],
      "text/plain": [
       "                                                  body\n",
       "1    If you're interested and willing to moderate a...\n",
       "2    I'm not sure if this would be considered as se...\n",
       "5    I was sexually harassed at work by a customer,...\n",
       "6    hello!\\n\\n&#x200B;\\n\\nI am a victim of sexual ...\n",
       "7    HotNewHipHop: Neil deGrasse Tyson Accused Of S...\n",
       "..                                                 ...\n",
       "296  Im 18 but at the time I was a bit younger. I d...\n",
       "299  When I[22M] was a young boy, around 10 years o...\n",
       "301  This has been going through my mind for a few ...\n",
       "303  I really dont remember it happening but I want...\n",
       "305  I'm embarrassed to write/post this on my main ...\n",
       "\n",
       "[220 rows x 1 columns]"
      ]
     },
     "execution_count": 16,
     "metadata": {},
     "output_type": "execute_result"
    }
   ],
   "source": [
    "negBody"
   ]
  },
  {
   "cell_type": "code",
   "execution_count": 17,
   "metadata": {
    "colab": {},
    "colab_type": "code",
    "id": "gDdVnKLp131y"
   },
   "outputs": [],
   "source": [
    "negComments=dataSR[['comments']]"
   ]
  },
  {
   "cell_type": "code",
   "execution_count": 18,
   "metadata": {
    "colab": {
     "base_uri": "https://localhost:8080/",
     "height": 419
    },
    "colab_type": "code",
    "id": "3K7yzDOD2C9s",
    "outputId": "dea128bf-9843-4650-cf40-404acff2f0ef"
   },
   "outputs": [
    {
     "data": {
      "text/html": [
       "<div>\n",
       "<style scoped>\n",
       "    .dataframe tbody tr th:only-of-type {\n",
       "        vertical-align: middle;\n",
       "    }\n",
       "\n",
       "    .dataframe tbody tr th {\n",
       "        vertical-align: top;\n",
       "    }\n",
       "\n",
       "    .dataframe thead th {\n",
       "        text-align: right;\n",
       "    }\n",
       "</style>\n",
       "<table border=\"1\" class=\"dataframe\">\n",
       "  <thead>\n",
       "    <tr style=\"text-align: right;\">\n",
       "      <th></th>\n",
       "      <th>comments</th>\n",
       "    </tr>\n",
       "  </thead>\n",
       "  <tbody>\n",
       "    <tr>\n",
       "      <th>1</th>\n",
       "      <td>[]</td>\n",
       "    </tr>\n",
       "    <tr>\n",
       "      <th>2</th>\n",
       "      <td>['You definitely need to tell a trusted adult ...</td>\n",
       "    </tr>\n",
       "    <tr>\n",
       "      <th>3</th>\n",
       "      <td>[]</td>\n",
       "    </tr>\n",
       "    <tr>\n",
       "      <th>4</th>\n",
       "      <td>[]</td>\n",
       "    </tr>\n",
       "    <tr>\n",
       "      <th>5</th>\n",
       "      <td>[\"You're mom might have done wrong telling whe...</td>\n",
       "    </tr>\n",
       "    <tr>\n",
       "      <th>...</th>\n",
       "      <td>...</td>\n",
       "    </tr>\n",
       "    <tr>\n",
       "      <th>301</th>\n",
       "      <td>['I am so sorry for the experiences you have e...</td>\n",
       "    </tr>\n",
       "    <tr>\n",
       "      <th>302</th>\n",
       "      <td>[]</td>\n",
       "    </tr>\n",
       "    <tr>\n",
       "      <th>303</th>\n",
       "      <td>['wait you get cramps when you need to poop? i...</td>\n",
       "    </tr>\n",
       "    <tr>\n",
       "      <th>304</th>\n",
       "      <td>[]</td>\n",
       "    </tr>\n",
       "    <tr>\n",
       "      <th>305</th>\n",
       "      <td>['Hey PM me if needed. I am also on your boat ...</td>\n",
       "    </tr>\n",
       "  </tbody>\n",
       "</table>\n",
       "<p>305 rows × 1 columns</p>\n",
       "</div>"
      ],
      "text/plain": [
       "                                              comments\n",
       "1                                                   []\n",
       "2    ['You definitely need to tell a trusted adult ...\n",
       "3                                                   []\n",
       "4                                                   []\n",
       "5    [\"You're mom might have done wrong telling whe...\n",
       "..                                                 ...\n",
       "301  ['I am so sorry for the experiences you have e...\n",
       "302                                                 []\n",
       "303  ['wait you get cramps when you need to poop? i...\n",
       "304                                                 []\n",
       "305  ['Hey PM me if needed. I am also on your boat ...\n",
       "\n",
       "[305 rows x 1 columns]"
      ]
     },
     "execution_count": 18,
     "metadata": {},
     "output_type": "execute_result"
    }
   ],
   "source": [
    "negComments"
   ]
  },
  {
   "cell_type": "code",
   "execution_count": 19,
   "metadata": {
    "colab": {},
    "colab_type": "code",
    "id": "0JbYff2s2V4Z"
   },
   "outputs": [],
   "source": [
    "indexNames = negComments[ negComments['comments'] == '[]' ].index"
   ]
  },
  {
   "cell_type": "code",
   "execution_count": 20,
   "metadata": {
    "colab": {
     "base_uri": "https://localhost:8080/",
     "height": 122
    },
    "colab_type": "code",
    "id": "4pwrANLy2a8k",
    "outputId": "3093b9b5-dda5-4d89-8928-53db47dcdebb"
   },
   "outputs": [
    {
     "name": "stderr",
     "output_type": "stream",
     "text": [
      "/usr/local/lib/python3.5/dist-packages/pandas/core/frame.py:4117: SettingWithCopyWarning: \n",
      "A value is trying to be set on a copy of a slice from a DataFrame\n",
      "\n",
      "See the caveats in the documentation: http://pandas.pydata.org/pandas-docs/stable/user_guide/indexing.html#returning-a-view-versus-a-copy\n",
      "  errors=errors,\n"
     ]
    }
   ],
   "source": [
    "negComments.drop(indexNames , inplace=True)"
   ]
  },
  {
   "cell_type": "code",
   "execution_count": 21,
   "metadata": {
    "colab": {
     "base_uri": "https://localhost:8080/",
     "height": 419
    },
    "colab_type": "code",
    "id": "InOjXq2H23KO",
    "outputId": "3c43438a-c768-41bb-94fb-e22d2e62901e"
   },
   "outputs": [
    {
     "data": {
      "text/html": [
       "<div>\n",
       "<style scoped>\n",
       "    .dataframe tbody tr th:only-of-type {\n",
       "        vertical-align: middle;\n",
       "    }\n",
       "\n",
       "    .dataframe tbody tr th {\n",
       "        vertical-align: top;\n",
       "    }\n",
       "\n",
       "    .dataframe thead th {\n",
       "        text-align: right;\n",
       "    }\n",
       "</style>\n",
       "<table border=\"1\" class=\"dataframe\">\n",
       "  <thead>\n",
       "    <tr style=\"text-align: right;\">\n",
       "      <th></th>\n",
       "      <th>comments</th>\n",
       "    </tr>\n",
       "  </thead>\n",
       "  <tbody>\n",
       "    <tr>\n",
       "      <th>2</th>\n",
       "      <td>['You definitely need to tell a trusted adult ...</td>\n",
       "    </tr>\n",
       "    <tr>\n",
       "      <th>5</th>\n",
       "      <td>[\"You're mom might have done wrong telling whe...</td>\n",
       "    </tr>\n",
       "    <tr>\n",
       "      <th>6</th>\n",
       "      <td>['Good luck! Speak up! Public shame these men....</td>\n",
       "    </tr>\n",
       "    <tr>\n",
       "      <th>7</th>\n",
       "      <td>[\"The original reporting was from an anti-scie...</td>\n",
       "    </tr>\n",
       "    <tr>\n",
       "      <th>8</th>\n",
       "      <td>['Yes and yes! That’s definitely wrong.', 'Mor...</td>\n",
       "    </tr>\n",
       "    <tr>\n",
       "      <th>...</th>\n",
       "      <td>...</td>\n",
       "    </tr>\n",
       "    <tr>\n",
       "      <th>298</th>\n",
       "      <td>['You are lucky nothing happened.', 'I know bu...</td>\n",
       "    </tr>\n",
       "    <tr>\n",
       "      <th>299</th>\n",
       "      <td>['I am very similar and yes being molested doe...</td>\n",
       "    </tr>\n",
       "    <tr>\n",
       "      <th>301</th>\n",
       "      <td>['I am so sorry for the experiences you have e...</td>\n",
       "    </tr>\n",
       "    <tr>\n",
       "      <th>303</th>\n",
       "      <td>['wait you get cramps when you need to poop? i...</td>\n",
       "    </tr>\n",
       "    <tr>\n",
       "      <th>305</th>\n",
       "      <td>['Hey PM me if needed. I am also on your boat ...</td>\n",
       "    </tr>\n",
       "  </tbody>\n",
       "</table>\n",
       "<p>180 rows × 1 columns</p>\n",
       "</div>"
      ],
      "text/plain": [
       "                                              comments\n",
       "2    ['You definitely need to tell a trusted adult ...\n",
       "5    [\"You're mom might have done wrong telling whe...\n",
       "6    ['Good luck! Speak up! Public shame these men....\n",
       "7    [\"The original reporting was from an anti-scie...\n",
       "8    ['Yes and yes! That’s definitely wrong.', 'Mor...\n",
       "..                                                 ...\n",
       "298  ['You are lucky nothing happened.', 'I know bu...\n",
       "299  ['I am very similar and yes being molested doe...\n",
       "301  ['I am so sorry for the experiences you have e...\n",
       "303  ['wait you get cramps when you need to poop? i...\n",
       "305  ['Hey PM me if needed. I am also on your boat ...\n",
       "\n",
       "[180 rows x 1 columns]"
      ]
     },
     "execution_count": 21,
     "metadata": {},
     "output_type": "execute_result"
    }
   ],
   "source": [
    "negComments"
   ]
  },
  {
   "cell_type": "code",
   "execution_count": 22,
   "metadata": {
    "colab": {},
    "colab_type": "code",
    "id": "VB3zyhYA27d2"
   },
   "outputs": [],
   "source": [
    "negArticles = dataSR[['article']]"
   ]
  },
  {
   "cell_type": "code",
   "execution_count": 23,
   "metadata": {
    "colab": {
     "base_uri": "https://localhost:8080/",
     "height": 419
    },
    "colab_type": "code",
    "id": "Dzo_m97s4Aw6",
    "outputId": "08f7ecf2-cbfb-4452-e7c7-45855b5f43d7"
   },
   "outputs": [
    {
     "data": {
      "text/html": [
       "<div>\n",
       "<style scoped>\n",
       "    .dataframe tbody tr th:only-of-type {\n",
       "        vertical-align: middle;\n",
       "    }\n",
       "\n",
       "    .dataframe tbody tr th {\n",
       "        vertical-align: top;\n",
       "    }\n",
       "\n",
       "    .dataframe thead th {\n",
       "        text-align: right;\n",
       "    }\n",
       "</style>\n",
       "<table border=\"1\" class=\"dataframe\">\n",
       "  <thead>\n",
       "    <tr style=\"text-align: right;\">\n",
       "      <th></th>\n",
       "      <th>article</th>\n",
       "    </tr>\n",
       "  </thead>\n",
       "  <tbody>\n",
       "    <tr>\n",
       "      <th>1</th>\n",
       "      <td>NaN</td>\n",
       "    </tr>\n",
       "    <tr>\n",
       "      <th>2</th>\n",
       "      <td>NaN</td>\n",
       "    </tr>\n",
       "    <tr>\n",
       "      <th>3</th>\n",
       "      <td>But in interviews with The New York Times and ...</td>\n",
       "    </tr>\n",
       "    <tr>\n",
       "      <th>4</th>\n",
       "      <td>Every year, sexual harassment in the workplace...</td>\n",
       "    </tr>\n",
       "    <tr>\n",
       "      <th>5</th>\n",
       "      <td>NaN</td>\n",
       "    </tr>\n",
       "    <tr>\n",
       "      <th>...</th>\n",
       "      <td>...</td>\n",
       "    </tr>\n",
       "    <tr>\n",
       "      <th>301</th>\n",
       "      <td>NaN</td>\n",
       "    </tr>\n",
       "    <tr>\n",
       "      <th>302</th>\n",
       "      <td>A Wall Street Journal spokesperson confirmed t...</td>\n",
       "    </tr>\n",
       "    <tr>\n",
       "      <th>303</th>\n",
       "      <td>NaN</td>\n",
       "    </tr>\n",
       "    <tr>\n",
       "      <th>304</th>\n",
       "      <td>Brentley Jason Breyers is a suspect in the sex...</td>\n",
       "    </tr>\n",
       "    <tr>\n",
       "      <th>305</th>\n",
       "      <td>NaN</td>\n",
       "    </tr>\n",
       "  </tbody>\n",
       "</table>\n",
       "<p>305 rows × 1 columns</p>\n",
       "</div>"
      ],
      "text/plain": [
       "                                               article\n",
       "1                                                  NaN\n",
       "2                                                  NaN\n",
       "3    But in interviews with The New York Times and ...\n",
       "4    Every year, sexual harassment in the workplace...\n",
       "5                                                  NaN\n",
       "..                                                 ...\n",
       "301                                                NaN\n",
       "302  A Wall Street Journal spokesperson confirmed t...\n",
       "303                                                NaN\n",
       "304  Brentley Jason Breyers is a suspect in the sex...\n",
       "305                                                NaN\n",
       "\n",
       "[305 rows x 1 columns]"
      ]
     },
     "execution_count": 23,
     "metadata": {},
     "output_type": "execute_result"
    }
   ],
   "source": [
    "negArticles"
   ]
  },
  {
   "cell_type": "code",
   "execution_count": 24,
   "metadata": {
    "colab": {},
    "colab_type": "code",
    "id": "bOJHtEom4B6V"
   },
   "outputs": [],
   "source": [
    "negArticles=negArticles.dropna()\n"
   ]
  },
  {
   "cell_type": "code",
   "execution_count": 25,
   "metadata": {
    "colab": {
     "base_uri": "https://localhost:8080/",
     "height": 1000
    },
    "colab_type": "code",
    "id": "fbLMSljzOy4M",
    "outputId": "f62ead56-844f-4b55-fa1a-7848c29f354d"
   },
   "outputs": [
    {
     "data": {
      "text/html": [
       "<div>\n",
       "<style scoped>\n",
       "    .dataframe tbody tr th:only-of-type {\n",
       "        vertical-align: middle;\n",
       "    }\n",
       "\n",
       "    .dataframe tbody tr th {\n",
       "        vertical-align: top;\n",
       "    }\n",
       "\n",
       "    .dataframe thead th {\n",
       "        text-align: right;\n",
       "    }\n",
       "</style>\n",
       "<table border=\"1\" class=\"dataframe\">\n",
       "  <thead>\n",
       "    <tr style=\"text-align: right;\">\n",
       "      <th></th>\n",
       "      <th>article</th>\n",
       "    </tr>\n",
       "  </thead>\n",
       "  <tbody>\n",
       "    <tr>\n",
       "      <th>3</th>\n",
       "      <td>But in interviews with The New York Times and ...</td>\n",
       "    </tr>\n",
       "    <tr>\n",
       "      <th>4</th>\n",
       "      <td>Every year, sexual harassment in the workplace...</td>\n",
       "    </tr>\n",
       "    <tr>\n",
       "      <th>10</th>\n",
       "      <td>Incidents of sexual harassment at work increas...</td>\n",
       "    </tr>\n",
       "    <tr>\n",
       "      <th>14</th>\n",
       "      <td>Tennessee Gov. Bill Haslam answers questions a...</td>\n",
       "    </tr>\n",
       "    <tr>\n",
       "      <th>25</th>\n",
       "      <td>In Sri Lanka, over 3 million people use public...</td>\n",
       "    </tr>\n",
       "    <tr>\n",
       "      <th>26</th>\n",
       "      <td>On 20 June 2018 Australia’s Sex Discrimination...</td>\n",
       "    </tr>\n",
       "    <tr>\n",
       "      <th>28</th>\n",
       "      <td>Anyone who has been paying attention to the ne...</td>\n",
       "    </tr>\n",
       "    <tr>\n",
       "      <th>29</th>\n",
       "      <td>In the wake of the Weinstein sexual abuse alle...</td>\n",
       "    </tr>\n",
       "    <tr>\n",
       "      <th>30</th>\n",
       "      <td>Sarah Ditum (pictured below) is a feminist and...</td>\n",
       "    </tr>\n",
       "    <tr>\n",
       "      <th>34</th>\n",
       "      <td>Standing at 6’3” and weighing in at 245 pounds...</td>\n",
       "    </tr>\n",
       "    <tr>\n",
       "      <th>38</th>\n",
       "      <td>Morgan Freeman has been accused of sexual hara...</td>\n",
       "    </tr>\n",
       "    <tr>\n",
       "      <th>41</th>\n",
       "      <td>Most of us assume that one of the reasons men ...</td>\n",
       "    </tr>\n",
       "    <tr>\n",
       "      <th>43</th>\n",
       "      <td>If a man abuses his co-workers and apologizes,...</td>\n",
       "    </tr>\n",
       "    <tr>\n",
       "      <th>56</th>\n",
       "      <td>Sexual misconduct can occur everywhere, even i...</td>\n",
       "    </tr>\n",
       "    <tr>\n",
       "      <th>57</th>\n",
       "      <td>It's been a few years since I graduated high s...</td>\n",
       "    </tr>\n",
       "    <tr>\n",
       "      <th>60</th>\n",
       "      <td>A longtime math teacher in the San Dieguito Un...</td>\n",
       "    </tr>\n",
       "    <tr>\n",
       "      <th>67</th>\n",
       "      <td>As our lifestyles get increasingly hectic, and...</td>\n",
       "    </tr>\n",
       "    <tr>\n",
       "      <th>68</th>\n",
       "      <td>Photo: SAUL LOEB/AFP/Getty Images\\n\\nNPR journ...</td>\n",
       "    </tr>\n",
       "    <tr>\n",
       "      <th>69</th>\n",
       "      <td>WASHINGTON — In the months following the inaug...</td>\n",
       "    </tr>\n",
       "    <tr>\n",
       "      <th>81</th>\n",
       "      <td>Rep. Patrick Meehan, a Republican leader of th...</td>\n",
       "    </tr>\n",
       "    <tr>\n",
       "      <th>83</th>\n",
       "      <td>There has never been one specific reason for t...</td>\n",
       "    </tr>\n",
       "    <tr>\n",
       "      <th>88</th>\n",
       "      <td>The University of Arizona has fired football c...</td>\n",
       "    </tr>\n",
       "    <tr>\n",
       "      <th>90</th>\n",
       "      <td>Spread the love\\n\\n\\n\\n\\n\\n\\n\\n\\n\\n\\n\\n\\n\\n\\n\\...</td>\n",
       "    </tr>\n",
       "    <tr>\n",
       "      <th>92</th>\n",
       "      <td>Worst alleged offenses happened in DOJ’s Civil...</td>\n",
       "    </tr>\n",
       "    <tr>\n",
       "      <th>94</th>\n",
       "      <td>Welcome to It’s Complicated, stories on the so...</td>\n",
       "    </tr>\n",
       "    <tr>\n",
       "      <th>97</th>\n",
       "      <td>\\n\\n\\n\\n\\n\\n\\n\\nPhoto by Courtney Hedger on Un...</td>\n",
       "    </tr>\n",
       "    <tr>\n",
       "      <th>98</th>\n",
       "      <td>The country’s sports body refuses to renew Yan...</td>\n",
       "    </tr>\n",
       "    <tr>\n",
       "      <th>100</th>\n",
       "      <td>It began with a news story, and then a tweet, ...</td>\n",
       "    </tr>\n",
       "    <tr>\n",
       "      <th>101</th>\n",
       "      <td>Not Acceptable!\\n\\nAn appropriate representati...</td>\n",
       "    </tr>\n",
       "    <tr>\n",
       "      <th>117</th>\n",
       "      <td>CHICAGO (CBS) — A woman was sexually assaulted...</td>\n",
       "    </tr>\n",
       "    <tr>\n",
       "      <th>123</th>\n",
       "      <td>Also Available on: iTunes, Tumblr, iHeartRADIO...</td>\n",
       "    </tr>\n",
       "    <tr>\n",
       "      <th>133</th>\n",
       "      <td>Underreported\\n\\nThe U.S. Department of Justic...</td>\n",
       "    </tr>\n",
       "    <tr>\n",
       "      <th>142</th>\n",
       "      <td>In Sri Lanka, over 3 million people use public...</td>\n",
       "    </tr>\n",
       "    <tr>\n",
       "      <th>148</th>\n",
       "      <td>CLOSE Sexual assault resources Port Clinton Ne...</td>\n",
       "    </tr>\n",
       "    <tr>\n",
       "      <th>165</th>\n",
       "      <td>Of all crimes, sexual violence against childre...</td>\n",
       "    </tr>\n",
       "    <tr>\n",
       "      <th>186</th>\n",
       "      <td>The Website Has Been Suspended</td>\n",
       "    </tr>\n",
       "    <tr>\n",
       "      <th>201</th>\n",
       "      <td>There is something rather orderly and calming ...</td>\n",
       "    </tr>\n",
       "    <tr>\n",
       "      <th>202</th>\n",
       "      <td>Not Acceptable!\\n\\nAn appropriate representati...</td>\n",
       "    </tr>\n",
       "    <tr>\n",
       "      <th>206</th>\n",
       "      <td>Hollywood is crumbling.\\n\\nSeveral of their mo...</td>\n",
       "    </tr>\n",
       "    <tr>\n",
       "      <th>210</th>\n",
       "      <td>Error 404! The page you requested does not exi...</td>\n",
       "    </tr>\n",
       "    <tr>\n",
       "      <th>211</th>\n",
       "      <td>Forbidden\\n\\nYou don't have permission to acce...</td>\n",
       "    </tr>\n",
       "    <tr>\n",
       "      <th>221</th>\n",
       "      <td>Assault Survey\\n\\nSexual Assault : The term se...</td>\n",
       "    </tr>\n",
       "    <tr>\n",
       "      <th>280</th>\n",
       "      <td>India, we need to talk. It’s time to break the...</td>\n",
       "    </tr>\n",
       "    <tr>\n",
       "      <th>302</th>\n",
       "      <td>A Wall Street Journal spokesperson confirmed t...</td>\n",
       "    </tr>\n",
       "    <tr>\n",
       "      <th>304</th>\n",
       "      <td>Brentley Jason Breyers is a suspect in the sex...</td>\n",
       "    </tr>\n",
       "  </tbody>\n",
       "</table>\n",
       "</div>"
      ],
      "text/plain": [
       "                                               article\n",
       "3    But in interviews with The New York Times and ...\n",
       "4    Every year, sexual harassment in the workplace...\n",
       "10   Incidents of sexual harassment at work increas...\n",
       "14   Tennessee Gov. Bill Haslam answers questions a...\n",
       "25   In Sri Lanka, over 3 million people use public...\n",
       "26   On 20 June 2018 Australia’s Sex Discrimination...\n",
       "28   Anyone who has been paying attention to the ne...\n",
       "29   In the wake of the Weinstein sexual abuse alle...\n",
       "30   Sarah Ditum (pictured below) is a feminist and...\n",
       "34   Standing at 6’3” and weighing in at 245 pounds...\n",
       "38   Morgan Freeman has been accused of sexual hara...\n",
       "41   Most of us assume that one of the reasons men ...\n",
       "43   If a man abuses his co-workers and apologizes,...\n",
       "56   Sexual misconduct can occur everywhere, even i...\n",
       "57   It's been a few years since I graduated high s...\n",
       "60   A longtime math teacher in the San Dieguito Un...\n",
       "67   As our lifestyles get increasingly hectic, and...\n",
       "68   Photo: SAUL LOEB/AFP/Getty Images\\n\\nNPR journ...\n",
       "69   WASHINGTON — In the months following the inaug...\n",
       "81   Rep. Patrick Meehan, a Republican leader of th...\n",
       "83   There has never been one specific reason for t...\n",
       "88   The University of Arizona has fired football c...\n",
       "90   Spread the love\\n\\n\\n\\n\\n\\n\\n\\n\\n\\n\\n\\n\\n\\n\\n\\...\n",
       "92   Worst alleged offenses happened in DOJ’s Civil...\n",
       "94   Welcome to It’s Complicated, stories on the so...\n",
       "97   \\n\\n\\n\\n\\n\\n\\n\\nPhoto by Courtney Hedger on Un...\n",
       "98   The country’s sports body refuses to renew Yan...\n",
       "100  It began with a news story, and then a tweet, ...\n",
       "101  Not Acceptable!\\n\\nAn appropriate representati...\n",
       "117  CHICAGO (CBS) — A woman was sexually assaulted...\n",
       "123  Also Available on: iTunes, Tumblr, iHeartRADIO...\n",
       "133  Underreported\\n\\nThe U.S. Department of Justic...\n",
       "142  In Sri Lanka, over 3 million people use public...\n",
       "148  CLOSE Sexual assault resources Port Clinton Ne...\n",
       "165  Of all crimes, sexual violence against childre...\n",
       "186                     The Website Has Been Suspended\n",
       "201  There is something rather orderly and calming ...\n",
       "202  Not Acceptable!\\n\\nAn appropriate representati...\n",
       "206  Hollywood is crumbling.\\n\\nSeveral of their mo...\n",
       "210  Error 404! The page you requested does not exi...\n",
       "211  Forbidden\\n\\nYou don't have permission to acce...\n",
       "221  Assault Survey\\n\\nSexual Assault : The term se...\n",
       "280  India, we need to talk. It’s time to break the...\n",
       "302  A Wall Street Journal spokesperson confirmed t...\n",
       "304  Brentley Jason Breyers is a suspect in the sex..."
      ]
     },
     "execution_count": 25,
     "metadata": {},
     "output_type": "execute_result"
    }
   ],
   "source": [
    "negArticles"
   ]
  },
  {
   "cell_type": "code",
   "execution_count": 26,
   "metadata": {
    "colab": {},
    "colab_type": "code",
    "id": "_PYb6hPP4I7M"
   },
   "outputs": [],
   "source": [
    "colsFR =['title', 'score', 'id', 'subreddit', 'url', 'num_comments', 'body', 'created','comments','article','querry']\n",
    "dataFR = pd.read_csv(\"nlpdatasqupdated.csv\",names=colsFR)"
   ]
  },
  {
   "cell_type": "code",
   "execution_count": 27,
   "metadata": {
    "colab": {
     "base_uri": "https://localhost:8080/",
     "height": 1000
    },
    "colab_type": "code",
    "id": "yp9GibVU-VVB",
    "outputId": "204986c9-98b7-492e-8127-af0114b990f5"
   },
   "outputs": [
    {
     "data": {
      "text/html": [
       "<div>\n",
       "<style scoped>\n",
       "    .dataframe tbody tr th:only-of-type {\n",
       "        vertical-align: middle;\n",
       "    }\n",
       "\n",
       "    .dataframe tbody tr th {\n",
       "        vertical-align: top;\n",
       "    }\n",
       "\n",
       "    .dataframe thead th {\n",
       "        text-align: right;\n",
       "    }\n",
       "</style>\n",
       "<table border=\"1\" class=\"dataframe\">\n",
       "  <thead>\n",
       "    <tr style=\"text-align: right;\">\n",
       "      <th></th>\n",
       "      <th>title</th>\n",
       "      <th>score</th>\n",
       "      <th>id</th>\n",
       "      <th>subreddit</th>\n",
       "      <th>url</th>\n",
       "      <th>num_comments</th>\n",
       "      <th>body</th>\n",
       "      <th>created</th>\n",
       "      <th>comments</th>\n",
       "      <th>article</th>\n",
       "      <th>querry</th>\n",
       "    </tr>\n",
       "  </thead>\n",
       "  <tbody>\n",
       "    <tr>\n",
       "      <th>0</th>\n",
       "      <td>title</td>\n",
       "      <td>score</td>\n",
       "      <td>id</td>\n",
       "      <td>subreddit</td>\n",
       "      <td>url</td>\n",
       "      <td>num_comments</td>\n",
       "      <td>body</td>\n",
       "      <td>created</td>\n",
       "      <td>comments</td>\n",
       "      <td>article</td>\n",
       "      <td>querry</td>\n",
       "    </tr>\n",
       "    <tr>\n",
       "      <th>1</th>\n",
       "      <td>[Serious] Those who have been sexually harrase...</td>\n",
       "      <td>3</td>\n",
       "      <td>cp1g4u</td>\n",
       "      <td>AskReddit</td>\n",
       "      <td>https://www.reddit.com/r/AskReddit/comments/cp...</td>\n",
       "      <td>20</td>\n",
       "      <td>NaN</td>\n",
       "      <td>1565581980.0</td>\n",
       "      <td>[\"**Attention! [Serious] Tag Notice**\\n\\n* Jok...</td>\n",
       "      <td>NaN</td>\n",
       "      <td>sexual harrasment</td>\n",
       "    </tr>\n",
       "    <tr>\n",
       "      <th>2</th>\n",
       "      <td>What is the worst piece of advice you've been ...</td>\n",
       "      <td>5</td>\n",
       "      <td>9e1hlu</td>\n",
       "      <td>AskReddit</td>\n",
       "      <td>https://www.reddit.com/r/AskReddit/comments/9e...</td>\n",
       "      <td>44</td>\n",
       "      <td>NaN</td>\n",
       "      <td>1536408519.0</td>\n",
       "      <td>['Don’t die, you’ll die if you do\\n\\n-my frien...</td>\n",
       "      <td>NaN</td>\n",
       "      <td>sexual harrasment</td>\n",
       "    </tr>\n",
       "    <tr>\n",
       "      <th>3</th>\n",
       "      <td>This finnish \"anti sexual harrasment\" video</td>\n",
       "      <td>2495</td>\n",
       "      <td>fdi1zd</td>\n",
       "      <td>Cringetopia</td>\n",
       "      <td>https://v.redd.it/q7wn36ovgpk41</td>\n",
       "      <td>196</td>\n",
       "      <td>NaN</td>\n",
       "      <td>1583378109.0</td>\n",
       "      <td>['Voting is now closed. With 13 votes, the com...</td>\n",
       "      <td>NaN</td>\n",
       "      <td>sexual harrasment</td>\n",
       "    </tr>\n",
       "    <tr>\n",
       "      <th>4</th>\n",
       "      <td>cursed sexual harrasment</td>\n",
       "      <td>12</td>\n",
       "      <td>fbv355</td>\n",
       "      <td>cursedcomments</td>\n",
       "      <td>https://i.redd.it/0hye8squr2k41.png</td>\n",
       "      <td>4</td>\n",
       "      <td>NaN</td>\n",
       "      <td>1583103356.0</td>\n",
       "      <td>[\"Upvote this comment if the post is a **Curse...</td>\n",
       "      <td>NaN</td>\n",
       "      <td>sexual harrasment</td>\n",
       "    </tr>\n",
       "    <tr>\n",
       "      <th>...</th>\n",
       "      <td>...</td>\n",
       "      <td>...</td>\n",
       "      <td>...</td>\n",
       "      <td>...</td>\n",
       "      <td>...</td>\n",
       "      <td>...</td>\n",
       "      <td>...</td>\n",
       "      <td>...</td>\n",
       "      <td>...</td>\n",
       "      <td>...</td>\n",
       "      <td>...</td>\n",
       "    </tr>\n",
       "    <tr>\n",
       "      <th>196</th>\n",
       "      <td>This commercial about sexual abuse in the morm...</td>\n",
       "      <td>192</td>\n",
       "      <td>fg96xi</td>\n",
       "      <td>exmormon</td>\n",
       "      <td>https://i.redd.it/27mvjmiabsl41.jpg</td>\n",
       "      <td>8</td>\n",
       "      <td>NaN</td>\n",
       "      <td>1583848393.0</td>\n",
       "      <td>['Does it include deceitful mental cult abuse ...</td>\n",
       "      <td>NaN</td>\n",
       "      <td>sexual abuse</td>\n",
       "    </tr>\n",
       "    <tr>\n",
       "      <th>197</th>\n",
       "      <td>Grand jury investigators are ‘dead serious’ ab...</td>\n",
       "      <td>241</td>\n",
       "      <td>f3qys6</td>\n",
       "      <td>exjw</td>\n",
       "      <td>https://www.inquirer.com/news/jehovahs-witness...</td>\n",
       "      <td>32</td>\n",
       "      <td>NaN</td>\n",
       "      <td>1581708938.0</td>\n",
       "      <td>['\"At least three grand jury witnesses said in...</td>\n",
       "      <td>Sarah Brooks is another of Fritz’s clients; wh...</td>\n",
       "      <td>sexual abuse</td>\n",
       "    </tr>\n",
       "    <tr>\n",
       "      <th>198</th>\n",
       "      <td>Prince Andrew refuses to cooperate with an inv...</td>\n",
       "      <td>71</td>\n",
       "      <td>fg3qjv</td>\n",
       "      <td>royalfamily</td>\n",
       "      <td>https://www.reddit.com/r/royalfamily/comments/...</td>\n",
       "      <td>10</td>\n",
       "      <td>[https://www.cnn.com/2020/03/09/uk/prince-and...</td>\n",
       "      <td>1583823790.0</td>\n",
       "      <td>[\"He and this whole situation is so shady. I w...</td>\n",
       "      <td>NaN</td>\n",
       "      <td>sexual abuse</td>\n",
       "    </tr>\n",
       "    <tr>\n",
       "      <th>199</th>\n",
       "      <td>No Wonder So Many Women in Prostitution Have a...</td>\n",
       "      <td>191</td>\n",
       "      <td>f7f8bp</td>\n",
       "      <td>GenderCritical</td>\n",
       "      <td>https://www.reddit.com/r/GenderCritical/commen...</td>\n",
       "      <td>22</td>\n",
       "      <td>\"Father-daughter incest is not only the type o...</td>\n",
       "      <td>1582338082.0</td>\n",
       "      <td>[\"Welcome to Reddit's most active feminist com...</td>\n",
       "      <td>NaN</td>\n",
       "      <td>sexual abuse</td>\n",
       "    </tr>\n",
       "    <tr>\n",
       "      <th>200</th>\n",
       "      <td>Thailand: Military conscripts face rampant har...</td>\n",
       "      <td>42</td>\n",
       "      <td>fnn5q6</td>\n",
       "      <td>MensRights</td>\n",
       "      <td>https://www.amnesty.org/en/latest/news/2020/03...</td>\n",
       "      <td>5</td>\n",
       "      <td>NaN</td>\n",
       "      <td>1585010780.0</td>\n",
       "      <td>['In short- Conscripts in Thailand face rampan...</td>\n",
       "      <td>A new investigation by Amnesty International p...</td>\n",
       "      <td>sexual abuse</td>\n",
       "    </tr>\n",
       "  </tbody>\n",
       "</table>\n",
       "<p>201 rows × 11 columns</p>\n",
       "</div>"
      ],
      "text/plain": [
       "                                                 title  score      id  \\\n",
       "0                                                title  score      id   \n",
       "1    [Serious] Those who have been sexually harrase...      3  cp1g4u   \n",
       "2    What is the worst piece of advice you've been ...      5  9e1hlu   \n",
       "3          This finnish \"anti sexual harrasment\" video   2495  fdi1zd   \n",
       "4                             cursed sexual harrasment     12  fbv355   \n",
       "..                                                 ...    ...     ...   \n",
       "196  This commercial about sexual abuse in the morm...    192  fg96xi   \n",
       "197  Grand jury investigators are ‘dead serious’ ab...    241  f3qys6   \n",
       "198  Prince Andrew refuses to cooperate with an inv...     71  fg3qjv   \n",
       "199  No Wonder So Many Women in Prostitution Have a...    191  f7f8bp   \n",
       "200  Thailand: Military conscripts face rampant har...     42  fnn5q6   \n",
       "\n",
       "          subreddit                                                url  \\\n",
       "0         subreddit                                                url   \n",
       "1         AskReddit  https://www.reddit.com/r/AskReddit/comments/cp...   \n",
       "2         AskReddit  https://www.reddit.com/r/AskReddit/comments/9e...   \n",
       "3       Cringetopia                    https://v.redd.it/q7wn36ovgpk41   \n",
       "4    cursedcomments                https://i.redd.it/0hye8squr2k41.png   \n",
       "..              ...                                                ...   \n",
       "196        exmormon                https://i.redd.it/27mvjmiabsl41.jpg   \n",
       "197            exjw  https://www.inquirer.com/news/jehovahs-witness...   \n",
       "198     royalfamily  https://www.reddit.com/r/royalfamily/comments/...   \n",
       "199  GenderCritical  https://www.reddit.com/r/GenderCritical/commen...   \n",
       "200      MensRights  https://www.amnesty.org/en/latest/news/2020/03...   \n",
       "\n",
       "     num_comments                                               body  \\\n",
       "0    num_comments                                               body   \n",
       "1              20                                                NaN   \n",
       "2              44                                                NaN   \n",
       "3             196                                                NaN   \n",
       "4               4                                                NaN   \n",
       "..            ...                                                ...   \n",
       "196             8                                                NaN   \n",
       "197            32                                                NaN   \n",
       "198            10   [https://www.cnn.com/2020/03/09/uk/prince-and...   \n",
       "199            22  \"Father-daughter incest is not only the type o...   \n",
       "200             5                                                NaN   \n",
       "\n",
       "          created                                           comments  \\\n",
       "0         created                                           comments   \n",
       "1    1565581980.0  [\"**Attention! [Serious] Tag Notice**\\n\\n* Jok...   \n",
       "2    1536408519.0  ['Don’t die, you’ll die if you do\\n\\n-my frien...   \n",
       "3    1583378109.0  ['Voting is now closed. With 13 votes, the com...   \n",
       "4    1583103356.0  [\"Upvote this comment if the post is a **Curse...   \n",
       "..            ...                                                ...   \n",
       "196  1583848393.0  ['Does it include deceitful mental cult abuse ...   \n",
       "197  1581708938.0  ['\"At least three grand jury witnesses said in...   \n",
       "198  1583823790.0  [\"He and this whole situation is so shady. I w...   \n",
       "199  1582338082.0  [\"Welcome to Reddit's most active feminist com...   \n",
       "200  1585010780.0  ['In short- Conscripts in Thailand face rampan...   \n",
       "\n",
       "                                               article             querry  \n",
       "0                                              article             querry  \n",
       "1                                                  NaN  sexual harrasment  \n",
       "2                                                  NaN  sexual harrasment  \n",
       "3                                                  NaN  sexual harrasment  \n",
       "4                                                  NaN  sexual harrasment  \n",
       "..                                                 ...                ...  \n",
       "196                                                NaN       sexual abuse  \n",
       "197  Sarah Brooks is another of Fritz’s clients; wh...       sexual abuse  \n",
       "198                                                NaN       sexual abuse  \n",
       "199                                                NaN       sexual abuse  \n",
       "200  A new investigation by Amnesty International p...       sexual abuse  \n",
       "\n",
       "[201 rows x 11 columns]"
      ]
     },
     "execution_count": 27,
     "metadata": {},
     "output_type": "execute_result"
    }
   ],
   "source": [
    "dataFR"
   ]
  },
  {
   "cell_type": "code",
   "execution_count": 28,
   "metadata": {
    "colab": {},
    "colab_type": "code",
    "id": "lnP29a1v-l9c"
   },
   "outputs": [],
   "source": [
    "dataFR = dataFR.iloc[1:]"
   ]
  },
  {
   "cell_type": "code",
   "execution_count": 29,
   "metadata": {
    "colab": {
     "base_uri": "https://localhost:8080/",
     "height": 1000
    },
    "colab_type": "code",
    "id": "8ybVJhbJ-6Wr",
    "outputId": "da722393-9dec-4e6e-9a96-c92e3f3fb0f5"
   },
   "outputs": [
    {
     "data": {
      "text/html": [
       "<div>\n",
       "<style scoped>\n",
       "    .dataframe tbody tr th:only-of-type {\n",
       "        vertical-align: middle;\n",
       "    }\n",
       "\n",
       "    .dataframe tbody tr th {\n",
       "        vertical-align: top;\n",
       "    }\n",
       "\n",
       "    .dataframe thead th {\n",
       "        text-align: right;\n",
       "    }\n",
       "</style>\n",
       "<table border=\"1\" class=\"dataframe\">\n",
       "  <thead>\n",
       "    <tr style=\"text-align: right;\">\n",
       "      <th></th>\n",
       "      <th>title</th>\n",
       "      <th>score</th>\n",
       "      <th>id</th>\n",
       "      <th>subreddit</th>\n",
       "      <th>url</th>\n",
       "      <th>num_comments</th>\n",
       "      <th>body</th>\n",
       "      <th>created</th>\n",
       "      <th>comments</th>\n",
       "      <th>article</th>\n",
       "      <th>querry</th>\n",
       "    </tr>\n",
       "  </thead>\n",
       "  <tbody>\n",
       "    <tr>\n",
       "      <th>1</th>\n",
       "      <td>[Serious] Those who have been sexually harrase...</td>\n",
       "      <td>3</td>\n",
       "      <td>cp1g4u</td>\n",
       "      <td>AskReddit</td>\n",
       "      <td>https://www.reddit.com/r/AskReddit/comments/cp...</td>\n",
       "      <td>20</td>\n",
       "      <td>NaN</td>\n",
       "      <td>1565581980.0</td>\n",
       "      <td>[\"**Attention! [Serious] Tag Notice**\\n\\n* Jok...</td>\n",
       "      <td>NaN</td>\n",
       "      <td>sexual harrasment</td>\n",
       "    </tr>\n",
       "    <tr>\n",
       "      <th>2</th>\n",
       "      <td>What is the worst piece of advice you've been ...</td>\n",
       "      <td>5</td>\n",
       "      <td>9e1hlu</td>\n",
       "      <td>AskReddit</td>\n",
       "      <td>https://www.reddit.com/r/AskReddit/comments/9e...</td>\n",
       "      <td>44</td>\n",
       "      <td>NaN</td>\n",
       "      <td>1536408519.0</td>\n",
       "      <td>['Don’t die, you’ll die if you do\\n\\n-my frien...</td>\n",
       "      <td>NaN</td>\n",
       "      <td>sexual harrasment</td>\n",
       "    </tr>\n",
       "    <tr>\n",
       "      <th>3</th>\n",
       "      <td>This finnish \"anti sexual harrasment\" video</td>\n",
       "      <td>2495</td>\n",
       "      <td>fdi1zd</td>\n",
       "      <td>Cringetopia</td>\n",
       "      <td>https://v.redd.it/q7wn36ovgpk41</td>\n",
       "      <td>196</td>\n",
       "      <td>NaN</td>\n",
       "      <td>1583378109.0</td>\n",
       "      <td>['Voting is now closed. With 13 votes, the com...</td>\n",
       "      <td>NaN</td>\n",
       "      <td>sexual harrasment</td>\n",
       "    </tr>\n",
       "    <tr>\n",
       "      <th>4</th>\n",
       "      <td>cursed sexual harrasment</td>\n",
       "      <td>12</td>\n",
       "      <td>fbv355</td>\n",
       "      <td>cursedcomments</td>\n",
       "      <td>https://i.redd.it/0hye8squr2k41.png</td>\n",
       "      <td>4</td>\n",
       "      <td>NaN</td>\n",
       "      <td>1583103356.0</td>\n",
       "      <td>[\"Upvote this comment if the post is a **Curse...</td>\n",
       "      <td>NaN</td>\n",
       "      <td>sexual harrasment</td>\n",
       "    </tr>\n",
       "    <tr>\n",
       "      <th>5</th>\n",
       "      <td>Sexual harrasment from a housemate</td>\n",
       "      <td>45</td>\n",
       "      <td>fgw94r</td>\n",
       "      <td>LegalAdviceUK</td>\n",
       "      <td>https://www.reddit.com/r/LegalAdviceUK/comment...</td>\n",
       "      <td>4</td>\n",
       "      <td>I live in a HMO in Wales with 6 others. All bu...</td>\n",
       "      <td>1583958009.0</td>\n",
       "      <td>['\\n\\n---\\n###Welcome to /r/LegalAdviceUK\\n---...</td>\n",
       "      <td>NaN</td>\n",
       "      <td>sexual harrasment</td>\n",
       "    </tr>\n",
       "    <tr>\n",
       "      <th>...</th>\n",
       "      <td>...</td>\n",
       "      <td>...</td>\n",
       "      <td>...</td>\n",
       "      <td>...</td>\n",
       "      <td>...</td>\n",
       "      <td>...</td>\n",
       "      <td>...</td>\n",
       "      <td>...</td>\n",
       "      <td>...</td>\n",
       "      <td>...</td>\n",
       "      <td>...</td>\n",
       "    </tr>\n",
       "    <tr>\n",
       "      <th>196</th>\n",
       "      <td>This commercial about sexual abuse in the morm...</td>\n",
       "      <td>192</td>\n",
       "      <td>fg96xi</td>\n",
       "      <td>exmormon</td>\n",
       "      <td>https://i.redd.it/27mvjmiabsl41.jpg</td>\n",
       "      <td>8</td>\n",
       "      <td>NaN</td>\n",
       "      <td>1583848393.0</td>\n",
       "      <td>['Does it include deceitful mental cult abuse ...</td>\n",
       "      <td>NaN</td>\n",
       "      <td>sexual abuse</td>\n",
       "    </tr>\n",
       "    <tr>\n",
       "      <th>197</th>\n",
       "      <td>Grand jury investigators are ‘dead serious’ ab...</td>\n",
       "      <td>241</td>\n",
       "      <td>f3qys6</td>\n",
       "      <td>exjw</td>\n",
       "      <td>https://www.inquirer.com/news/jehovahs-witness...</td>\n",
       "      <td>32</td>\n",
       "      <td>NaN</td>\n",
       "      <td>1581708938.0</td>\n",
       "      <td>['\"At least three grand jury witnesses said in...</td>\n",
       "      <td>Sarah Brooks is another of Fritz’s clients; wh...</td>\n",
       "      <td>sexual abuse</td>\n",
       "    </tr>\n",
       "    <tr>\n",
       "      <th>198</th>\n",
       "      <td>Prince Andrew refuses to cooperate with an inv...</td>\n",
       "      <td>71</td>\n",
       "      <td>fg3qjv</td>\n",
       "      <td>royalfamily</td>\n",
       "      <td>https://www.reddit.com/r/royalfamily/comments/...</td>\n",
       "      <td>10</td>\n",
       "      <td>[https://www.cnn.com/2020/03/09/uk/prince-and...</td>\n",
       "      <td>1583823790.0</td>\n",
       "      <td>[\"He and this whole situation is so shady. I w...</td>\n",
       "      <td>NaN</td>\n",
       "      <td>sexual abuse</td>\n",
       "    </tr>\n",
       "    <tr>\n",
       "      <th>199</th>\n",
       "      <td>No Wonder So Many Women in Prostitution Have a...</td>\n",
       "      <td>191</td>\n",
       "      <td>f7f8bp</td>\n",
       "      <td>GenderCritical</td>\n",
       "      <td>https://www.reddit.com/r/GenderCritical/commen...</td>\n",
       "      <td>22</td>\n",
       "      <td>\"Father-daughter incest is not only the type o...</td>\n",
       "      <td>1582338082.0</td>\n",
       "      <td>[\"Welcome to Reddit's most active feminist com...</td>\n",
       "      <td>NaN</td>\n",
       "      <td>sexual abuse</td>\n",
       "    </tr>\n",
       "    <tr>\n",
       "      <th>200</th>\n",
       "      <td>Thailand: Military conscripts face rampant har...</td>\n",
       "      <td>42</td>\n",
       "      <td>fnn5q6</td>\n",
       "      <td>MensRights</td>\n",
       "      <td>https://www.amnesty.org/en/latest/news/2020/03...</td>\n",
       "      <td>5</td>\n",
       "      <td>NaN</td>\n",
       "      <td>1585010780.0</td>\n",
       "      <td>['In short- Conscripts in Thailand face rampan...</td>\n",
       "      <td>A new investigation by Amnesty International p...</td>\n",
       "      <td>sexual abuse</td>\n",
       "    </tr>\n",
       "  </tbody>\n",
       "</table>\n",
       "<p>200 rows × 11 columns</p>\n",
       "</div>"
      ],
      "text/plain": [
       "                                                 title score      id  \\\n",
       "1    [Serious] Those who have been sexually harrase...     3  cp1g4u   \n",
       "2    What is the worst piece of advice you've been ...     5  9e1hlu   \n",
       "3          This finnish \"anti sexual harrasment\" video  2495  fdi1zd   \n",
       "4                             cursed sexual harrasment    12  fbv355   \n",
       "5                   Sexual harrasment from a housemate    45  fgw94r   \n",
       "..                                                 ...   ...     ...   \n",
       "196  This commercial about sexual abuse in the morm...   192  fg96xi   \n",
       "197  Grand jury investigators are ‘dead serious’ ab...   241  f3qys6   \n",
       "198  Prince Andrew refuses to cooperate with an inv...    71  fg3qjv   \n",
       "199  No Wonder So Many Women in Prostitution Have a...   191  f7f8bp   \n",
       "200  Thailand: Military conscripts face rampant har...    42  fnn5q6   \n",
       "\n",
       "          subreddit                                                url  \\\n",
       "1         AskReddit  https://www.reddit.com/r/AskReddit/comments/cp...   \n",
       "2         AskReddit  https://www.reddit.com/r/AskReddit/comments/9e...   \n",
       "3       Cringetopia                    https://v.redd.it/q7wn36ovgpk41   \n",
       "4    cursedcomments                https://i.redd.it/0hye8squr2k41.png   \n",
       "5     LegalAdviceUK  https://www.reddit.com/r/LegalAdviceUK/comment...   \n",
       "..              ...                                                ...   \n",
       "196        exmormon                https://i.redd.it/27mvjmiabsl41.jpg   \n",
       "197            exjw  https://www.inquirer.com/news/jehovahs-witness...   \n",
       "198     royalfamily  https://www.reddit.com/r/royalfamily/comments/...   \n",
       "199  GenderCritical  https://www.reddit.com/r/GenderCritical/commen...   \n",
       "200      MensRights  https://www.amnesty.org/en/latest/news/2020/03...   \n",
       "\n",
       "    num_comments                                               body  \\\n",
       "1             20                                                NaN   \n",
       "2             44                                                NaN   \n",
       "3            196                                                NaN   \n",
       "4              4                                                NaN   \n",
       "5              4  I live in a HMO in Wales with 6 others. All bu...   \n",
       "..           ...                                                ...   \n",
       "196            8                                                NaN   \n",
       "197           32                                                NaN   \n",
       "198           10   [https://www.cnn.com/2020/03/09/uk/prince-and...   \n",
       "199           22  \"Father-daughter incest is not only the type o...   \n",
       "200            5                                                NaN   \n",
       "\n",
       "          created                                           comments  \\\n",
       "1    1565581980.0  [\"**Attention! [Serious] Tag Notice**\\n\\n* Jok...   \n",
       "2    1536408519.0  ['Don’t die, you’ll die if you do\\n\\n-my frien...   \n",
       "3    1583378109.0  ['Voting is now closed. With 13 votes, the com...   \n",
       "4    1583103356.0  [\"Upvote this comment if the post is a **Curse...   \n",
       "5    1583958009.0  ['\\n\\n---\\n###Welcome to /r/LegalAdviceUK\\n---...   \n",
       "..            ...                                                ...   \n",
       "196  1583848393.0  ['Does it include deceitful mental cult abuse ...   \n",
       "197  1581708938.0  ['\"At least three grand jury witnesses said in...   \n",
       "198  1583823790.0  [\"He and this whole situation is so shady. I w...   \n",
       "199  1582338082.0  [\"Welcome to Reddit's most active feminist com...   \n",
       "200  1585010780.0  ['In short- Conscripts in Thailand face rampan...   \n",
       "\n",
       "                                               article             querry  \n",
       "1                                                  NaN  sexual harrasment  \n",
       "2                                                  NaN  sexual harrasment  \n",
       "3                                                  NaN  sexual harrasment  \n",
       "4                                                  NaN  sexual harrasment  \n",
       "5                                                  NaN  sexual harrasment  \n",
       "..                                                 ...                ...  \n",
       "196                                                NaN       sexual abuse  \n",
       "197  Sarah Brooks is another of Fritz’s clients; wh...       sexual abuse  \n",
       "198                                                NaN       sexual abuse  \n",
       "199                                                NaN       sexual abuse  \n",
       "200  A new investigation by Amnesty International p...       sexual abuse  \n",
       "\n",
       "[200 rows x 11 columns]"
      ]
     },
     "execution_count": 29,
     "metadata": {},
     "output_type": "execute_result"
    }
   ],
   "source": [
    "dataFR"
   ]
  },
  {
   "cell_type": "code",
   "execution_count": 30,
   "metadata": {
    "colab": {},
    "colab_type": "code",
    "id": "urQc3FpE_TVW"
   },
   "outputs": [],
   "source": [
    "negBodyFR=dataFR[['body']]"
   ]
  },
  {
   "cell_type": "code",
   "execution_count": 31,
   "metadata": {
    "colab": {
     "base_uri": "https://localhost:8080/",
     "height": 419
    },
    "colab_type": "code",
    "id": "FqIPXQXB_YOt",
    "outputId": "15af7aae-816e-4d11-bf5e-62333bbd9e2b"
   },
   "outputs": [
    {
     "data": {
      "text/html": [
       "<div>\n",
       "<style scoped>\n",
       "    .dataframe tbody tr th:only-of-type {\n",
       "        vertical-align: middle;\n",
       "    }\n",
       "\n",
       "    .dataframe tbody tr th {\n",
       "        vertical-align: top;\n",
       "    }\n",
       "\n",
       "    .dataframe thead th {\n",
       "        text-align: right;\n",
       "    }\n",
       "</style>\n",
       "<table border=\"1\" class=\"dataframe\">\n",
       "  <thead>\n",
       "    <tr style=\"text-align: right;\">\n",
       "      <th></th>\n",
       "      <th>body</th>\n",
       "    </tr>\n",
       "  </thead>\n",
       "  <tbody>\n",
       "    <tr>\n",
       "      <th>1</th>\n",
       "      <td>NaN</td>\n",
       "    </tr>\n",
       "    <tr>\n",
       "      <th>2</th>\n",
       "      <td>NaN</td>\n",
       "    </tr>\n",
       "    <tr>\n",
       "      <th>3</th>\n",
       "      <td>NaN</td>\n",
       "    </tr>\n",
       "    <tr>\n",
       "      <th>4</th>\n",
       "      <td>NaN</td>\n",
       "    </tr>\n",
       "    <tr>\n",
       "      <th>5</th>\n",
       "      <td>I live in a HMO in Wales with 6 others. All bu...</td>\n",
       "    </tr>\n",
       "    <tr>\n",
       "      <th>...</th>\n",
       "      <td>...</td>\n",
       "    </tr>\n",
       "    <tr>\n",
       "      <th>196</th>\n",
       "      <td>NaN</td>\n",
       "    </tr>\n",
       "    <tr>\n",
       "      <th>197</th>\n",
       "      <td>NaN</td>\n",
       "    </tr>\n",
       "    <tr>\n",
       "      <th>198</th>\n",
       "      <td>[https://www.cnn.com/2020/03/09/uk/prince-and...</td>\n",
       "    </tr>\n",
       "    <tr>\n",
       "      <th>199</th>\n",
       "      <td>\"Father-daughter incest is not only the type o...</td>\n",
       "    </tr>\n",
       "    <tr>\n",
       "      <th>200</th>\n",
       "      <td>NaN</td>\n",
       "    </tr>\n",
       "  </tbody>\n",
       "</table>\n",
       "<p>200 rows × 1 columns</p>\n",
       "</div>"
      ],
      "text/plain": [
       "                                                  body\n",
       "1                                                  NaN\n",
       "2                                                  NaN\n",
       "3                                                  NaN\n",
       "4                                                  NaN\n",
       "5    I live in a HMO in Wales with 6 others. All bu...\n",
       "..                                                 ...\n",
       "196                                                NaN\n",
       "197                                                NaN\n",
       "198   [https://www.cnn.com/2020/03/09/uk/prince-and...\n",
       "199  \"Father-daughter incest is not only the type o...\n",
       "200                                                NaN\n",
       "\n",
       "[200 rows x 1 columns]"
      ]
     },
     "execution_count": 31,
     "metadata": {},
     "output_type": "execute_result"
    }
   ],
   "source": [
    "negBodyFR"
   ]
  },
  {
   "cell_type": "code",
   "execution_count": 32,
   "metadata": {
    "colab": {},
    "colab_type": "code",
    "id": "5TvKGKDv_ZJ5"
   },
   "outputs": [],
   "source": [
    "negBodyFR=negBodyFR.dropna()"
   ]
  },
  {
   "cell_type": "code",
   "execution_count": 33,
   "metadata": {
    "colab": {
     "base_uri": "https://localhost:8080/",
     "height": 419
    },
    "colab_type": "code",
    "id": "PfTt9i_9PStG",
    "outputId": "4ca4d9a5-2389-45ec-8e03-a7ca566bee9c"
   },
   "outputs": [
    {
     "data": {
      "text/html": [
       "<div>\n",
       "<style scoped>\n",
       "    .dataframe tbody tr th:only-of-type {\n",
       "        vertical-align: middle;\n",
       "    }\n",
       "\n",
       "    .dataframe tbody tr th {\n",
       "        vertical-align: top;\n",
       "    }\n",
       "\n",
       "    .dataframe thead th {\n",
       "        text-align: right;\n",
       "    }\n",
       "</style>\n",
       "<table border=\"1\" class=\"dataframe\">\n",
       "  <thead>\n",
       "    <tr style=\"text-align: right;\">\n",
       "      <th></th>\n",
       "      <th>body</th>\n",
       "    </tr>\n",
       "  </thead>\n",
       "  <tbody>\n",
       "    <tr>\n",
       "      <th>5</th>\n",
       "      <td>I live in a HMO in Wales with 6 others. All bu...</td>\n",
       "    </tr>\n",
       "    <tr>\n",
       "      <th>7</th>\n",
       "      <td>I put in a report to the police and they calle...</td>\n",
       "    </tr>\n",
       "    <tr>\n",
       "      <th>9</th>\n",
       "      <td>Los actos y situaciones de acoso han estado si...</td>\n",
       "    </tr>\n",
       "    <tr>\n",
       "      <th>10</th>\n",
       "      <td>(Location: Germany/Bavaria/Oberfranken\\nDate: ...</td>\n",
       "    </tr>\n",
       "    <tr>\n",
       "      <th>11</th>\n",
       "      <td>Location: South Us \\nI am a lead of the Depart...</td>\n",
       "    </tr>\n",
       "    <tr>\n",
       "      <th>...</th>\n",
       "      <td>...</td>\n",
       "    </tr>\n",
       "    <tr>\n",
       "      <th>183</th>\n",
       "      <td>these vatican policies were *just* changed to ...</td>\n",
       "    </tr>\n",
       "    <tr>\n",
       "      <th>187</th>\n",
       "      <td>&gt;  “A year ago, “Leaving Neverland” was releas...</td>\n",
       "    </tr>\n",
       "    <tr>\n",
       "      <th>195</th>\n",
       "      <td>I hope this doesn't come off as an \"angry tira...</td>\n",
       "    </tr>\n",
       "    <tr>\n",
       "      <th>198</th>\n",
       "      <td>[https://www.cnn.com/2020/03/09/uk/prince-and...</td>\n",
       "    </tr>\n",
       "    <tr>\n",
       "      <th>199</th>\n",
       "      <td>\"Father-daughter incest is not only the type o...</td>\n",
       "    </tr>\n",
       "  </tbody>\n",
       "</table>\n",
       "<p>88 rows × 1 columns</p>\n",
       "</div>"
      ],
      "text/plain": [
       "                                                  body\n",
       "5    I live in a HMO in Wales with 6 others. All bu...\n",
       "7    I put in a report to the police and they calle...\n",
       "9    Los actos y situaciones de acoso han estado si...\n",
       "10   (Location: Germany/Bavaria/Oberfranken\\nDate: ...\n",
       "11   Location: South Us \\nI am a lead of the Depart...\n",
       "..                                                 ...\n",
       "183  these vatican policies were *just* changed to ...\n",
       "187  >  “A year ago, “Leaving Neverland” was releas...\n",
       "195  I hope this doesn't come off as an \"angry tira...\n",
       "198   [https://www.cnn.com/2020/03/09/uk/prince-and...\n",
       "199  \"Father-daughter incest is not only the type o...\n",
       "\n",
       "[88 rows x 1 columns]"
      ]
     },
     "execution_count": 33,
     "metadata": {},
     "output_type": "execute_result"
    }
   ],
   "source": [
    "negBodyFR"
   ]
  },
  {
   "cell_type": "code",
   "execution_count": 34,
   "metadata": {
    "colab": {},
    "colab_type": "code",
    "id": "x0OXuxvK_dC5"
   },
   "outputs": [],
   "source": [
    "negCommentsFR=dataFR[['comments']]"
   ]
  },
  {
   "cell_type": "code",
   "execution_count": 35,
   "metadata": {
    "colab": {},
    "colab_type": "code",
    "id": "1b1ut8ef_-4E"
   },
   "outputs": [],
   "source": [
    "indexNamesFR = negCommentsFR[negCommentsFR['comments'] == '[]' ].index"
   ]
  },
  {
   "cell_type": "code",
   "execution_count": 36,
   "metadata": {
    "colab": {
     "base_uri": "https://localhost:8080/",
     "height": 122
    },
    "colab_type": "code",
    "id": "Pdfmi21BAGAL",
    "outputId": "86ab1167-bc99-4e64-ed15-fdea482d1b41"
   },
   "outputs": [],
   "source": [
    "negCommentsFR.drop(indexNamesFR , inplace=True)"
   ]
  },
  {
   "cell_type": "code",
   "execution_count": 37,
   "metadata": {
    "colab": {
     "base_uri": "https://localhost:8080/",
     "height": 419
    },
    "colab_type": "code",
    "id": "bgNO49seAIKZ",
    "outputId": "167976c4-cdd1-4e2d-9451-e7f6d61657cd"
   },
   "outputs": [
    {
     "data": {
      "text/html": [
       "<div>\n",
       "<style scoped>\n",
       "    .dataframe tbody tr th:only-of-type {\n",
       "        vertical-align: middle;\n",
       "    }\n",
       "\n",
       "    .dataframe tbody tr th {\n",
       "        vertical-align: top;\n",
       "    }\n",
       "\n",
       "    .dataframe thead th {\n",
       "        text-align: right;\n",
       "    }\n",
       "</style>\n",
       "<table border=\"1\" class=\"dataframe\">\n",
       "  <thead>\n",
       "    <tr style=\"text-align: right;\">\n",
       "      <th></th>\n",
       "      <th>comments</th>\n",
       "    </tr>\n",
       "  </thead>\n",
       "  <tbody>\n",
       "    <tr>\n",
       "      <th>1</th>\n",
       "      <td>[\"**Attention! [Serious] Tag Notice**\\n\\n* Jok...</td>\n",
       "    </tr>\n",
       "    <tr>\n",
       "      <th>2</th>\n",
       "      <td>['Don’t die, you’ll die if you do\\n\\n-my frien...</td>\n",
       "    </tr>\n",
       "    <tr>\n",
       "      <th>3</th>\n",
       "      <td>['Voting is now closed. With 13 votes, the com...</td>\n",
       "    </tr>\n",
       "    <tr>\n",
       "      <th>4</th>\n",
       "      <td>[\"Upvote this comment if the post is a **Curse...</td>\n",
       "    </tr>\n",
       "    <tr>\n",
       "      <th>5</th>\n",
       "      <td>['\\n\\n---\\n###Welcome to /r/LegalAdviceUK\\n---...</td>\n",
       "    </tr>\n",
       "    <tr>\n",
       "      <th>...</th>\n",
       "      <td>...</td>\n",
       "    </tr>\n",
       "    <tr>\n",
       "      <th>196</th>\n",
       "      <td>['Does it include deceitful mental cult abuse ...</td>\n",
       "    </tr>\n",
       "    <tr>\n",
       "      <th>197</th>\n",
       "      <td>['\"At least three grand jury witnesses said in...</td>\n",
       "    </tr>\n",
       "    <tr>\n",
       "      <th>198</th>\n",
       "      <td>[\"He and this whole situation is so shady. I w...</td>\n",
       "    </tr>\n",
       "    <tr>\n",
       "      <th>199</th>\n",
       "      <td>[\"Welcome to Reddit's most active feminist com...</td>\n",
       "    </tr>\n",
       "    <tr>\n",
       "      <th>200</th>\n",
       "      <td>['In short- Conscripts in Thailand face rampan...</td>\n",
       "    </tr>\n",
       "  </tbody>\n",
       "</table>\n",
       "<p>184 rows × 1 columns</p>\n",
       "</div>"
      ],
      "text/plain": [
       "                                              comments\n",
       "1    [\"**Attention! [Serious] Tag Notice**\\n\\n* Jok...\n",
       "2    ['Don’t die, you’ll die if you do\\n\\n-my frien...\n",
       "3    ['Voting is now closed. With 13 votes, the com...\n",
       "4    [\"Upvote this comment if the post is a **Curse...\n",
       "5    ['\\n\\n---\\n###Welcome to /r/LegalAdviceUK\\n---...\n",
       "..                                                 ...\n",
       "196  ['Does it include deceitful mental cult abuse ...\n",
       "197  ['\"At least three grand jury witnesses said in...\n",
       "198  [\"He and this whole situation is so shady. I w...\n",
       "199  [\"Welcome to Reddit's most active feminist com...\n",
       "200  ['In short- Conscripts in Thailand face rampan...\n",
       "\n",
       "[184 rows x 1 columns]"
      ]
     },
     "execution_count": 37,
     "metadata": {},
     "output_type": "execute_result"
    }
   ],
   "source": [
    "negCommentsFR"
   ]
  },
  {
   "cell_type": "code",
   "execution_count": 38,
   "metadata": {
    "colab": {},
    "colab_type": "code",
    "id": "h_sV2T86BNOz"
   },
   "outputs": [],
   "source": [
    "negArticlesFR = dataFR[['article']]"
   ]
  },
  {
   "cell_type": "code",
   "execution_count": 39,
   "metadata": {
    "colab": {
     "base_uri": "https://localhost:8080/",
     "height": 419
    },
    "colab_type": "code",
    "id": "vlJeN-R7BVVC",
    "outputId": "c3fe4b8d-f3ce-4850-a2bf-848f211cb703"
   },
   "outputs": [
    {
     "data": {
      "text/html": [
       "<div>\n",
       "<style scoped>\n",
       "    .dataframe tbody tr th:only-of-type {\n",
       "        vertical-align: middle;\n",
       "    }\n",
       "\n",
       "    .dataframe tbody tr th {\n",
       "        vertical-align: top;\n",
       "    }\n",
       "\n",
       "    .dataframe thead th {\n",
       "        text-align: right;\n",
       "    }\n",
       "</style>\n",
       "<table border=\"1\" class=\"dataframe\">\n",
       "  <thead>\n",
       "    <tr style=\"text-align: right;\">\n",
       "      <th></th>\n",
       "      <th>article</th>\n",
       "    </tr>\n",
       "  </thead>\n",
       "  <tbody>\n",
       "    <tr>\n",
       "      <th>1</th>\n",
       "      <td>NaN</td>\n",
       "    </tr>\n",
       "    <tr>\n",
       "      <th>2</th>\n",
       "      <td>NaN</td>\n",
       "    </tr>\n",
       "    <tr>\n",
       "      <th>3</th>\n",
       "      <td>NaN</td>\n",
       "    </tr>\n",
       "    <tr>\n",
       "      <th>4</th>\n",
       "      <td>NaN</td>\n",
       "    </tr>\n",
       "    <tr>\n",
       "      <th>5</th>\n",
       "      <td>NaN</td>\n",
       "    </tr>\n",
       "    <tr>\n",
       "      <th>...</th>\n",
       "      <td>...</td>\n",
       "    </tr>\n",
       "    <tr>\n",
       "      <th>196</th>\n",
       "      <td>NaN</td>\n",
       "    </tr>\n",
       "    <tr>\n",
       "      <th>197</th>\n",
       "      <td>Sarah Brooks is another of Fritz’s clients; wh...</td>\n",
       "    </tr>\n",
       "    <tr>\n",
       "      <th>198</th>\n",
       "      <td>NaN</td>\n",
       "    </tr>\n",
       "    <tr>\n",
       "      <th>199</th>\n",
       "      <td>NaN</td>\n",
       "    </tr>\n",
       "    <tr>\n",
       "      <th>200</th>\n",
       "      <td>A new investigation by Amnesty International p...</td>\n",
       "    </tr>\n",
       "  </tbody>\n",
       "</table>\n",
       "<p>200 rows × 1 columns</p>\n",
       "</div>"
      ],
      "text/plain": [
       "                                               article\n",
       "1                                                  NaN\n",
       "2                                                  NaN\n",
       "3                                                  NaN\n",
       "4                                                  NaN\n",
       "5                                                  NaN\n",
       "..                                                 ...\n",
       "196                                                NaN\n",
       "197  Sarah Brooks is another of Fritz’s clients; wh...\n",
       "198                                                NaN\n",
       "199                                                NaN\n",
       "200  A new investigation by Amnesty International p...\n",
       "\n",
       "[200 rows x 1 columns]"
      ]
     },
     "execution_count": 39,
     "metadata": {},
     "output_type": "execute_result"
    }
   ],
   "source": [
    "negArticlesFR"
   ]
  },
  {
   "cell_type": "code",
   "execution_count": 40,
   "metadata": {
    "colab": {},
    "colab_type": "code",
    "id": "N_GyFtJ5BXmo"
   },
   "outputs": [],
   "source": [
    "negArticlesFR=negArticlesFR.dropna()"
   ]
  },
  {
   "cell_type": "code",
   "execution_count": 41,
   "metadata": {
    "colab": {
     "base_uri": "https://localhost:8080/",
     "height": 1000
    },
    "colab_type": "code",
    "id": "XjcmVSUNPkz6",
    "outputId": "6e56c89c-d231-48e3-9b05-15f8caa3e64c"
   },
   "outputs": [
    {
     "data": {
      "text/html": [
       "<div>\n",
       "<style scoped>\n",
       "    .dataframe tbody tr th:only-of-type {\n",
       "        vertical-align: middle;\n",
       "    }\n",
       "\n",
       "    .dataframe tbody tr th {\n",
       "        vertical-align: top;\n",
       "    }\n",
       "\n",
       "    .dataframe thead th {\n",
       "        text-align: right;\n",
       "    }\n",
       "</style>\n",
       "<table border=\"1\" class=\"dataframe\">\n",
       "  <thead>\n",
       "    <tr style=\"text-align: right;\">\n",
       "      <th></th>\n",
       "      <th>article</th>\n",
       "    </tr>\n",
       "  </thead>\n",
       "  <tbody>\n",
       "    <tr>\n",
       "      <th>14</th>\n",
       "      <td>Police believe this man, captured in a CCTV im...</td>\n",
       "    </tr>\n",
       "    <tr>\n",
       "      <th>23</th>\n",
       "      <td>Three-quarters of workers experiencing sexual ...</td>\n",
       "    </tr>\n",
       "    <tr>\n",
       "      <th>42</th>\n",
       "      <td>Three-quarters of workers experiencing sexual ...</td>\n",
       "    </tr>\n",
       "    <tr>\n",
       "      <th>49</th>\n",
       "      <td>The Satira has breaking news, that thing you s...</td>\n",
       "    </tr>\n",
       "    <tr>\n",
       "      <th>65</th>\n",
       "      <td>Paige Cornelius, the former intern accusing me...</td>\n",
       "    </tr>\n",
       "    <tr>\n",
       "      <th>77</th>\n",
       "      <td>Former “Mad Men” writer Kater Gordon has accus...</td>\n",
       "    </tr>\n",
       "    <tr>\n",
       "      <th>91</th>\n",
       "      <td>mumbai\\n\\nUpdated: Apr 09, 2019 13:57 IST\\n\\nP...</td>\n",
       "    </tr>\n",
       "    <tr>\n",
       "      <th>92</th>\n",
       "      <td>Finnish female athletes have been the target o...</td>\n",
       "    </tr>\n",
       "    <tr>\n",
       "      <th>99</th>\n",
       "      <td>Tweet with a location\\n\\nYou can add location ...</td>\n",
       "    </tr>\n",
       "    <tr>\n",
       "      <th>107</th>\n",
       "      <td>(CNN) The Boy Scouts of America has filed for ...</td>\n",
       "    </tr>\n",
       "    <tr>\n",
       "      <th>108</th>\n",
       "      <td>Ohio congressman Jim Jordan has been accused o...</td>\n",
       "    </tr>\n",
       "    <tr>\n",
       "      <th>109</th>\n",
       "      <td>A high school student and a teacher were arres...</td>\n",
       "    </tr>\n",
       "    <tr>\n",
       "      <th>111</th>\n",
       "      <td>British politicians turned a blind eye to the ...</td>\n",
       "    </tr>\n",
       "    <tr>\n",
       "      <th>112</th>\n",
       "      <td>Self-styled prophet Michael Oluronbi, original...</td>\n",
       "    </tr>\n",
       "    <tr>\n",
       "      <th>113</th>\n",
       "      <td>Canada is not currently among the countries th...</td>\n",
       "    </tr>\n",
       "    <tr>\n",
       "      <th>114</th>\n",
       "      <td>Former Ohio State wrestler Adam DiSabato accus...</td>\n",
       "    </tr>\n",
       "    <tr>\n",
       "      <th>116</th>\n",
       "      <td>Using Coronavirus and child sexual abuse to se...</td>\n",
       "    </tr>\n",
       "    <tr>\n",
       "      <th>119</th>\n",
       "      <td>(CNN) A man testified at an Ohio statehouse he...</td>\n",
       "    </tr>\n",
       "    <tr>\n",
       "      <th>124</th>\n",
       "      <td>NEW YORK (Reuters) - Financier Jeffrey Epstein...</td>\n",
       "    </tr>\n",
       "    <tr>\n",
       "      <th>128</th>\n",
       "      <td>Over the past five years, scientific interest ...</td>\n",
       "    </tr>\n",
       "    <tr>\n",
       "      <th>131</th>\n",
       "      <td>Each year, around a third of Thailand’s young ...</td>\n",
       "    </tr>\n",
       "    <tr>\n",
       "      <th>132</th>\n",
       "      <td>South Korea is reeling from yet another seriou...</td>\n",
       "    </tr>\n",
       "    <tr>\n",
       "      <th>133</th>\n",
       "      <td>USC mishandled gynecologist's sexual abuse rep...</td>\n",
       "    </tr>\n",
       "    <tr>\n",
       "      <th>134</th>\n",
       "      <td>Over the past five years, scientific interest ...</td>\n",
       "    </tr>\n",
       "    <tr>\n",
       "      <th>138</th>\n",
       "      <td>Rome (CNN) Pope Francis has abolished Vatican ...</td>\n",
       "    </tr>\n",
       "    <tr>\n",
       "      <th>139</th>\n",
       "      <td>There's a growing trend in Ontario.\\n\\nMen are...</td>\n",
       "    </tr>\n",
       "    <tr>\n",
       "      <th>143</th>\n",
       "      <td>Adam DiSabato, a former captain of Ohio State ...</td>\n",
       "    </tr>\n",
       "    <tr>\n",
       "      <th>145</th>\n",
       "      <td>Kochi: Another Kerala nun on Friday accused fo...</td>\n",
       "    </tr>\n",
       "    <tr>\n",
       "      <th>149</th>\n",
       "      <td>In its Saturday edition, the Periódico de Cata...</td>\n",
       "    </tr>\n",
       "    <tr>\n",
       "      <th>150</th>\n",
       "      <td>Image copyright Family handout Image caption R...</td>\n",
       "    </tr>\n",
       "    <tr>\n",
       "      <th>153</th>\n",
       "      <td>SÃO PAULO - A 3ª Promotoria de Justiça Crimina...</td>\n",
       "    </tr>\n",
       "    <tr>\n",
       "      <th>155</th>\n",
       "      <td>[T/W: Underage sex trafficking]\\n\\nIt has been...</td>\n",
       "    </tr>\n",
       "    <tr>\n",
       "      <th>157</th>\n",
       "      <td>“Jim Jordan called me crying, crying, grovelin...</td>\n",
       "    </tr>\n",
       "    <tr>\n",
       "      <th>159</th>\n",
       "      <td>Liberal Democrat peer Lord David Steel has qui...</td>\n",
       "    </tr>\n",
       "    <tr>\n",
       "      <th>160</th>\n",
       "      <td>Liberal Democrat peer Lord David Steel has qui...</td>\n",
       "    </tr>\n",
       "    <tr>\n",
       "      <th>161</th>\n",
       "      <td>Children who have suffered sexual abuse are no...</td>\n",
       "    </tr>\n",
       "    <tr>\n",
       "      <th>162</th>\n",
       "      <td>At long last, Pastor Ernest Angley, the 98-yea...</td>\n",
       "    </tr>\n",
       "    <tr>\n",
       "      <th>167</th>\n",
       "      <td>After the identity of the main perpetrator of ...</td>\n",
       "    </tr>\n",
       "    <tr>\n",
       "      <th>169</th>\n",
       "      <td>Transgender woman, 29, awaiting trial says she...</td>\n",
       "    </tr>\n",
       "    <tr>\n",
       "      <th>173</th>\n",
       "      <td>Editor's Note: CNN is committed to covering ge...</td>\n",
       "    </tr>\n",
       "    <tr>\n",
       "      <th>176</th>\n",
       "      <td>Ohio congressman Jim Jordan has been accused o...</td>\n",
       "    </tr>\n",
       "    <tr>\n",
       "      <th>177</th>\n",
       "      <td>These Y-hun comparisons to Coronavirus and sex...</td>\n",
       "    </tr>\n",
       "    <tr>\n",
       "      <th>178</th>\n",
       "      <td>Kanawha County prosecutors say Richard Smith I...</td>\n",
       "    </tr>\n",
       "    <tr>\n",
       "      <th>180</th>\n",
       "      <td>We need to challenge those who minimise the ac...</td>\n",
       "    </tr>\n",
       "    <tr>\n",
       "      <th>181</th>\n",
       "      <td>Alleged ringleader forced victims to carve ‘sl...</td>\n",
       "    </tr>\n",
       "    <tr>\n",
       "      <th>184</th>\n",
       "      <td>Image zoom Michael Bezjian/WireImage\\n\\nCorey ...</td>\n",
       "    </tr>\n",
       "    <tr>\n",
       "      <th>188</th>\n",
       "      <td>During an Ohio Statehouse hearing Tuesday, Rep...</td>\n",
       "    </tr>\n",
       "    <tr>\n",
       "      <th>189</th>\n",
       "      <td>The United Nations have tried banning anime in...</td>\n",
       "    </tr>\n",
       "    <tr>\n",
       "      <th>190</th>\n",
       "      <td>The Madison Diocese has found sexual misconduc...</td>\n",
       "    </tr>\n",
       "    <tr>\n",
       "      <th>191</th>\n",
       "      <td>The former captain of the Ohio State Universit...</td>\n",
       "    </tr>\n",
       "    <tr>\n",
       "      <th>192</th>\n",
       "      <td>On Election day on the 8th February, a candida...</td>\n",
       "    </tr>\n",
       "    <tr>\n",
       "      <th>193</th>\n",
       "      <td>With the annual tilt between Michigan and The ...</td>\n",
       "    </tr>\n",
       "    <tr>\n",
       "      <th>194</th>\n",
       "      <td>Six former OSU wrestlers say that Ohio Rep. Ji...</td>\n",
       "    </tr>\n",
       "    <tr>\n",
       "      <th>197</th>\n",
       "      <td>Sarah Brooks is another of Fritz’s clients; wh...</td>\n",
       "    </tr>\n",
       "    <tr>\n",
       "      <th>200</th>\n",
       "      <td>A new investigation by Amnesty International p...</td>\n",
       "    </tr>\n",
       "  </tbody>\n",
       "</table>\n",
       "</div>"
      ],
      "text/plain": [
       "                                               article\n",
       "14   Police believe this man, captured in a CCTV im...\n",
       "23   Three-quarters of workers experiencing sexual ...\n",
       "42   Three-quarters of workers experiencing sexual ...\n",
       "49   The Satira has breaking news, that thing you s...\n",
       "65   Paige Cornelius, the former intern accusing me...\n",
       "77   Former “Mad Men” writer Kater Gordon has accus...\n",
       "91   mumbai\\n\\nUpdated: Apr 09, 2019 13:57 IST\\n\\nP...\n",
       "92   Finnish female athletes have been the target o...\n",
       "99   Tweet with a location\\n\\nYou can add location ...\n",
       "107  (CNN) The Boy Scouts of America has filed for ...\n",
       "108  Ohio congressman Jim Jordan has been accused o...\n",
       "109  A high school student and a teacher were arres...\n",
       "111  British politicians turned a blind eye to the ...\n",
       "112  Self-styled prophet Michael Oluronbi, original...\n",
       "113  Canada is not currently among the countries th...\n",
       "114  Former Ohio State wrestler Adam DiSabato accus...\n",
       "116  Using Coronavirus and child sexual abuse to se...\n",
       "119  (CNN) A man testified at an Ohio statehouse he...\n",
       "124  NEW YORK (Reuters) - Financier Jeffrey Epstein...\n",
       "128  Over the past five years, scientific interest ...\n",
       "131  Each year, around a third of Thailand’s young ...\n",
       "132  South Korea is reeling from yet another seriou...\n",
       "133  USC mishandled gynecologist's sexual abuse rep...\n",
       "134  Over the past five years, scientific interest ...\n",
       "138  Rome (CNN) Pope Francis has abolished Vatican ...\n",
       "139  There's a growing trend in Ontario.\\n\\nMen are...\n",
       "143  Adam DiSabato, a former captain of Ohio State ...\n",
       "145  Kochi: Another Kerala nun on Friday accused fo...\n",
       "149  In its Saturday edition, the Periódico de Cata...\n",
       "150  Image copyright Family handout Image caption R...\n",
       "153  SÃO PAULO - A 3ª Promotoria de Justiça Crimina...\n",
       "155  [T/W: Underage sex trafficking]\\n\\nIt has been...\n",
       "157  “Jim Jordan called me crying, crying, grovelin...\n",
       "159  Liberal Democrat peer Lord David Steel has qui...\n",
       "160  Liberal Democrat peer Lord David Steel has qui...\n",
       "161  Children who have suffered sexual abuse are no...\n",
       "162  At long last, Pastor Ernest Angley, the 98-yea...\n",
       "167  After the identity of the main perpetrator of ...\n",
       "169  Transgender woman, 29, awaiting trial says she...\n",
       "173  Editor's Note: CNN is committed to covering ge...\n",
       "176  Ohio congressman Jim Jordan has been accused o...\n",
       "177  These Y-hun comparisons to Coronavirus and sex...\n",
       "178  Kanawha County prosecutors say Richard Smith I...\n",
       "180  We need to challenge those who minimise the ac...\n",
       "181  Alleged ringleader forced victims to carve ‘sl...\n",
       "184  Image zoom Michael Bezjian/WireImage\\n\\nCorey ...\n",
       "188  During an Ohio Statehouse hearing Tuesday, Rep...\n",
       "189  The United Nations have tried banning anime in...\n",
       "190  The Madison Diocese has found sexual misconduc...\n",
       "191  The former captain of the Ohio State Universit...\n",
       "192  On Election day on the 8th February, a candida...\n",
       "193  With the annual tilt between Michigan and The ...\n",
       "194  Six former OSU wrestlers say that Ohio Rep. Ji...\n",
       "197  Sarah Brooks is another of Fritz’s clients; wh...\n",
       "200  A new investigation by Amnesty International p..."
      ]
     },
     "execution_count": 41,
     "metadata": {},
     "output_type": "execute_result"
    }
   ],
   "source": [
    "negArticlesFR"
   ]
  },
  {
   "cell_type": "code",
   "execution_count": 42,
   "metadata": {
    "colab": {
     "base_uri": "https://localhost:8080/",
     "height": 122
    },
    "colab_type": "code",
    "id": "DinTPIZDLRCP",
    "outputId": "c7b9fbb8-a3fb-473e-d04d-7a2b6ea7805a"
   },
   "outputs": [
    {
     "name": "stderr",
     "output_type": "stream",
     "text": [
      "/usr/local/lib/python3.5/dist-packages/pandas/core/frame.py:4238: SettingWithCopyWarning: \n",
      "A value is trying to be set on a copy of a slice from a DataFrame\n",
      "\n",
      "See the caveats in the documentation: http://pandas.pydata.org/pandas-docs/stable/user_guide/indexing.html#returning-a-view-versus-a-copy\n",
      "  return super().rename(**kwargs)\n"
     ]
    }
   ],
   "source": [
    "negArticles.rename(columns={'article': 'text'},inplace = True)"
   ]
  },
  {
   "cell_type": "code",
   "execution_count": 43,
   "metadata": {
    "colab": {
     "base_uri": "https://localhost:8080/",
     "height": 122
    },
    "colab_type": "code",
    "id": "yq3nLwJMLTfz",
    "outputId": "72992399-c1ff-4139-d913-f1eebdd78ccd"
   },
   "outputs": [],
   "source": [
    "negComments.rename(columns={'comments': 'text'},inplace = True)"
   ]
  },
  {
   "cell_type": "code",
   "execution_count": 44,
   "metadata": {
    "colab": {
     "base_uri": "https://localhost:8080/",
     "height": 122
    },
    "colab_type": "code",
    "id": "qQArAeOOQ4C5",
    "outputId": "e56fe87f-2c6e-4f54-c96e-09b4328dbb7a"
   },
   "outputs": [],
   "source": [
    "negBody.rename(columns={'body': 'text'},inplace = True)"
   ]
  },
  {
   "cell_type": "code",
   "execution_count": 45,
   "metadata": {
    "colab": {
     "base_uri": "https://localhost:8080/",
     "height": 122
    },
    "colab_type": "code",
    "id": "DljbDsXyLZE7",
    "outputId": "52ed3d42-5786-4996-a7ac-5f32c5516810"
   },
   "outputs": [],
   "source": [
    "negArticlesFR.rename(columns={'article': 'text'},inplace = True)"
   ]
  },
  {
   "cell_type": "code",
   "execution_count": 46,
   "metadata": {
    "colab": {
     "base_uri": "https://localhost:8080/",
     "height": 122
    },
    "colab_type": "code",
    "id": "RY_FEMZZLh02",
    "outputId": "f3300957-23de-4164-e2cb-d11c36504f27"
   },
   "outputs": [],
   "source": [
    "negCommentsFR.rename(columns={'comments': 'text'},inplace = True)"
   ]
  },
  {
   "cell_type": "code",
   "execution_count": 47,
   "metadata": {
    "colab": {
     "base_uri": "https://localhost:8080/",
     "height": 122
    },
    "colab_type": "code",
    "id": "TLEpXmh8NwtV",
    "outputId": "d0ddcd43-045c-4e55-eaaf-f0b6df839617"
   },
   "outputs": [],
   "source": [
    "negBodyFR.rename(columns={'body': 'text'},inplace = True)"
   ]
  },
  {
   "cell_type": "code",
   "execution_count": 48,
   "metadata": {
    "colab": {},
    "colab_type": "code",
    "id": "xwpMW_4ARBLy"
   },
   "outputs": [],
   "source": [
    "allCombs = pd.concat([negArticles,negArticlesFR,negBody,negBodyFR,negComments,negCommentsFR], axis=0)"
   ]
  },
  {
   "cell_type": "code",
   "execution_count": 49,
   "metadata": {
    "colab": {
     "base_uri": "https://localhost:8080/",
     "height": 419
    },
    "colab_type": "code",
    "id": "MciOu9M_RCIP",
    "outputId": "b0d09a26-adbf-4741-9184-9f9c4f38e84c"
   },
   "outputs": [
    {
     "data": {
      "text/html": [
       "<div>\n",
       "<style scoped>\n",
       "    .dataframe tbody tr th:only-of-type {\n",
       "        vertical-align: middle;\n",
       "    }\n",
       "\n",
       "    .dataframe tbody tr th {\n",
       "        vertical-align: top;\n",
       "    }\n",
       "\n",
       "    .dataframe thead th {\n",
       "        text-align: right;\n",
       "    }\n",
       "</style>\n",
       "<table border=\"1\" class=\"dataframe\">\n",
       "  <thead>\n",
       "    <tr style=\"text-align: right;\">\n",
       "      <th></th>\n",
       "      <th>text</th>\n",
       "    </tr>\n",
       "  </thead>\n",
       "  <tbody>\n",
       "    <tr>\n",
       "      <th>3</th>\n",
       "      <td>But in interviews with The New York Times and ...</td>\n",
       "    </tr>\n",
       "    <tr>\n",
       "      <th>4</th>\n",
       "      <td>Every year, sexual harassment in the workplace...</td>\n",
       "    </tr>\n",
       "    <tr>\n",
       "      <th>10</th>\n",
       "      <td>Incidents of sexual harassment at work increas...</td>\n",
       "    </tr>\n",
       "    <tr>\n",
       "      <th>14</th>\n",
       "      <td>Tennessee Gov. Bill Haslam answers questions a...</td>\n",
       "    </tr>\n",
       "    <tr>\n",
       "      <th>25</th>\n",
       "      <td>In Sri Lanka, over 3 million people use public...</td>\n",
       "    </tr>\n",
       "    <tr>\n",
       "      <th>...</th>\n",
       "      <td>...</td>\n",
       "    </tr>\n",
       "    <tr>\n",
       "      <th>196</th>\n",
       "      <td>['Does it include deceitful mental cult abuse ...</td>\n",
       "    </tr>\n",
       "    <tr>\n",
       "      <th>197</th>\n",
       "      <td>['\"At least three grand jury witnesses said in...</td>\n",
       "    </tr>\n",
       "    <tr>\n",
       "      <th>198</th>\n",
       "      <td>[\"He and this whole situation is so shady. I w...</td>\n",
       "    </tr>\n",
       "    <tr>\n",
       "      <th>199</th>\n",
       "      <td>[\"Welcome to Reddit's most active feminist com...</td>\n",
       "    </tr>\n",
       "    <tr>\n",
       "      <th>200</th>\n",
       "      <td>['In short- Conscripts in Thailand face rampan...</td>\n",
       "    </tr>\n",
       "  </tbody>\n",
       "</table>\n",
       "<p>772 rows × 1 columns</p>\n",
       "</div>"
      ],
      "text/plain": [
       "                                                  text\n",
       "3    But in interviews with The New York Times and ...\n",
       "4    Every year, sexual harassment in the workplace...\n",
       "10   Incidents of sexual harassment at work increas...\n",
       "14   Tennessee Gov. Bill Haslam answers questions a...\n",
       "25   In Sri Lanka, over 3 million people use public...\n",
       "..                                                 ...\n",
       "196  ['Does it include deceitful mental cult abuse ...\n",
       "197  ['\"At least three grand jury witnesses said in...\n",
       "198  [\"He and this whole situation is so shady. I w...\n",
       "199  [\"Welcome to Reddit's most active feminist com...\n",
       "200  ['In short- Conscripts in Thailand face rampan...\n",
       "\n",
       "[772 rows x 1 columns]"
      ]
     },
     "execution_count": 49,
     "metadata": {},
     "output_type": "execute_result"
    }
   ],
   "source": [
    "allCombs"
   ]
  },
  {
   "cell_type": "code",
   "execution_count": 50,
   "metadata": {
    "colab": {
     "base_uri": "https://localhost:8080/",
     "height": 419
    },
    "colab_type": "code",
    "id": "u07Pf7LeRf-F",
    "outputId": "edd2d630-50de-4d39-c831-1ec72be0b6e8"
   },
   "outputs": [
    {
     "data": {
      "text/html": [
       "<div>\n",
       "<style scoped>\n",
       "    .dataframe tbody tr th:only-of-type {\n",
       "        vertical-align: middle;\n",
       "    }\n",
       "\n",
       "    .dataframe tbody tr th {\n",
       "        vertical-align: top;\n",
       "    }\n",
       "\n",
       "    .dataframe thead th {\n",
       "        text-align: right;\n",
       "    }\n",
       "</style>\n",
       "<table border=\"1\" class=\"dataframe\">\n",
       "  <thead>\n",
       "    <tr style=\"text-align: right;\">\n",
       "      <th></th>\n",
       "      <th>text</th>\n",
       "    </tr>\n",
       "  </thead>\n",
       "  <tbody>\n",
       "    <tr>\n",
       "      <th>3</th>\n",
       "      <td>But in interviews with The New York Times and ...</td>\n",
       "    </tr>\n",
       "    <tr>\n",
       "      <th>4</th>\n",
       "      <td>Every year, sexual harassment in the workplace...</td>\n",
       "    </tr>\n",
       "    <tr>\n",
       "      <th>10</th>\n",
       "      <td>Incidents of sexual harassment at work increas...</td>\n",
       "    </tr>\n",
       "    <tr>\n",
       "      <th>14</th>\n",
       "      <td>Tennessee Gov. Bill Haslam answers questions a...</td>\n",
       "    </tr>\n",
       "    <tr>\n",
       "      <th>25</th>\n",
       "      <td>In Sri Lanka, over 3 million people use public...</td>\n",
       "    </tr>\n",
       "    <tr>\n",
       "      <th>...</th>\n",
       "      <td>...</td>\n",
       "    </tr>\n",
       "    <tr>\n",
       "      <th>196</th>\n",
       "      <td>['Does it include deceitful mental cult abuse ...</td>\n",
       "    </tr>\n",
       "    <tr>\n",
       "      <th>197</th>\n",
       "      <td>['\"At least three grand jury witnesses said in...</td>\n",
       "    </tr>\n",
       "    <tr>\n",
       "      <th>198</th>\n",
       "      <td>[\"He and this whole situation is so shady. I w...</td>\n",
       "    </tr>\n",
       "    <tr>\n",
       "      <th>199</th>\n",
       "      <td>[\"Welcome to Reddit's most active feminist com...</td>\n",
       "    </tr>\n",
       "    <tr>\n",
       "      <th>200</th>\n",
       "      <td>['In short- Conscripts in Thailand face rampan...</td>\n",
       "    </tr>\n",
       "  </tbody>\n",
       "</table>\n",
       "<p>772 rows × 1 columns</p>\n",
       "</div>"
      ],
      "text/plain": [
       "                                                  text\n",
       "3    But in interviews with The New York Times and ...\n",
       "4    Every year, sexual harassment in the workplace...\n",
       "10   Incidents of sexual harassment at work increas...\n",
       "14   Tennessee Gov. Bill Haslam answers questions a...\n",
       "25   In Sri Lanka, over 3 million people use public...\n",
       "..                                                 ...\n",
       "196  ['Does it include deceitful mental cult abuse ...\n",
       "197  ['\"At least three grand jury witnesses said in...\n",
       "198  [\"He and this whole situation is so shady. I w...\n",
       "199  [\"Welcome to Reddit's most active feminist com...\n",
       "200  ['In short- Conscripts in Thailand face rampan...\n",
       "\n",
       "[772 rows x 1 columns]"
      ]
     },
     "execution_count": 50,
     "metadata": {},
     "output_type": "execute_result"
    }
   ],
   "source": [
    "allCombs"
   ]
  },
  {
   "cell_type": "code",
   "execution_count": 51,
   "metadata": {
    "colab": {},
    "colab_type": "code",
    "id": "Ib-OcbbNRpbd"
   },
   "outputs": [],
   "source": [
    "allCombs.to_csv(r'allNeg.csv', index = False)"
   ]
  },
  {
   "cell_type": "code",
   "execution_count": 52,
   "metadata": {
    "colab": {
     "base_uri": "https://localhost:8080/",
     "height": 34
    },
    "colab_type": "code",
    "id": "9Zkbktj9SYZh",
    "outputId": "6f5a86e6-7f11-455c-f2e4-e6f862648800"
   },
   "outputs": [
    {
     "data": {
      "text/plain": [
       "(45, 1)"
      ]
     },
     "execution_count": 52,
     "metadata": {},
     "output_type": "execute_result"
    }
   ],
   "source": [
    "negArticles.shape"
   ]
  },
  {
   "cell_type": "code",
   "execution_count": 53,
   "metadata": {
    "colab": {
     "base_uri": "https://localhost:8080/",
     "height": 34
    },
    "colab_type": "code",
    "id": "H3NA6dSyT-S1",
    "outputId": "b4154f54-bd43-4dc2-edad-8030da32e52c"
   },
   "outputs": [
    {
     "data": {
      "text/plain": [
       "(55, 1)"
      ]
     },
     "execution_count": 53,
     "metadata": {},
     "output_type": "execute_result"
    }
   ],
   "source": [
    "negArticlesFR.shape"
   ]
  },
  {
   "cell_type": "code",
   "execution_count": 54,
   "metadata": {
    "colab": {
     "base_uri": "https://localhost:8080/",
     "height": 34
    },
    "colab_type": "code",
    "id": "XdQ8WBKwUAIf",
    "outputId": "cbfabfe7-b5b5-499b-f30c-57317d4ffdbe"
   },
   "outputs": [
    {
     "data": {
      "text/plain": [
       "(220, 1)"
      ]
     },
     "execution_count": 54,
     "metadata": {},
     "output_type": "execute_result"
    }
   ],
   "source": [
    "negBody.shape"
   ]
  },
  {
   "cell_type": "code",
   "execution_count": 55,
   "metadata": {
    "colab": {
     "base_uri": "https://localhost:8080/",
     "height": 34
    },
    "colab_type": "code",
    "id": "DqBqleHLUCql",
    "outputId": "a2aca1ec-a860-4ac3-d05e-d1ff581d2a57"
   },
   "outputs": [
    {
     "data": {
      "text/plain": [
       "(88, 1)"
      ]
     },
     "execution_count": 55,
     "metadata": {},
     "output_type": "execute_result"
    }
   ],
   "source": [
    "negBodyFR.shape"
   ]
  },
  {
   "cell_type": "code",
   "execution_count": 56,
   "metadata": {
    "colab": {
     "base_uri": "https://localhost:8080/",
     "height": 34
    },
    "colab_type": "code",
    "id": "toEJa5lkUEZn",
    "outputId": "ae33f6cc-7ad8-410d-ad0a-644c9ef1cfd0"
   },
   "outputs": [
    {
     "data": {
      "text/plain": [
       "(180, 1)"
      ]
     },
     "execution_count": 56,
     "metadata": {},
     "output_type": "execute_result"
    }
   ],
   "source": [
    "negComments.shape"
   ]
  },
  {
   "cell_type": "code",
   "execution_count": 57,
   "metadata": {
    "colab": {
     "base_uri": "https://localhost:8080/",
     "height": 34
    },
    "colab_type": "code",
    "id": "u17DA_NZUHgP",
    "outputId": "19a62e67-e8f9-430b-df70-c36141235fee"
   },
   "outputs": [
    {
     "data": {
      "text/plain": [
       "(184, 1)"
      ]
     },
     "execution_count": 57,
     "metadata": {},
     "output_type": "execute_result"
    }
   ],
   "source": [
    "negCommentsFR.shape"
   ]
  },
  {
   "cell_type": "code",
   "execution_count": 58,
   "metadata": {
    "colab": {
     "base_uri": "https://localhost:8080/",
     "height": 34
    },
    "colab_type": "code",
    "id": "IEYMv4ECUJoc",
    "outputId": "56ad59f0-5fe3-4c08-970e-9286966fb77c"
   },
   "outputs": [
    {
     "data": {
      "text/plain": [
       "pandas.core.frame.DataFrame"
      ]
     },
     "execution_count": 58,
     "metadata": {},
     "output_type": "execute_result"
    }
   ],
   "source": [
    "type(allCombs)"
   ]
  },
  {
   "cell_type": "code",
   "execution_count": 59,
   "metadata": {
    "colab": {},
    "colab_type": "code",
    "id": "KbIWkGvXU0go"
   },
   "outputs": [],
   "source": [
    "allCombs['sentiment']= 0 "
   ]
  },
  {
   "cell_type": "code",
   "execution_count": 60,
   "metadata": {
    "colab": {
     "base_uri": "https://localhost:8080/",
     "height": 419
    },
    "colab_type": "code",
    "id": "zZlNfeMwVgMk",
    "outputId": "1ca23f6a-b3a1-45cf-de88-b5a08b4a6442"
   },
   "outputs": [
    {
     "data": {
      "text/html": [
       "<div>\n",
       "<style scoped>\n",
       "    .dataframe tbody tr th:only-of-type {\n",
       "        vertical-align: middle;\n",
       "    }\n",
       "\n",
       "    .dataframe tbody tr th {\n",
       "        vertical-align: top;\n",
       "    }\n",
       "\n",
       "    .dataframe thead th {\n",
       "        text-align: right;\n",
       "    }\n",
       "</style>\n",
       "<table border=\"1\" class=\"dataframe\">\n",
       "  <thead>\n",
       "    <tr style=\"text-align: right;\">\n",
       "      <th></th>\n",
       "      <th>text</th>\n",
       "      <th>sentiment</th>\n",
       "    </tr>\n",
       "  </thead>\n",
       "  <tbody>\n",
       "    <tr>\n",
       "      <th>3</th>\n",
       "      <td>But in interviews with The New York Times and ...</td>\n",
       "      <td>0</td>\n",
       "    </tr>\n",
       "    <tr>\n",
       "      <th>4</th>\n",
       "      <td>Every year, sexual harassment in the workplace...</td>\n",
       "      <td>0</td>\n",
       "    </tr>\n",
       "    <tr>\n",
       "      <th>10</th>\n",
       "      <td>Incidents of sexual harassment at work increas...</td>\n",
       "      <td>0</td>\n",
       "    </tr>\n",
       "    <tr>\n",
       "      <th>14</th>\n",
       "      <td>Tennessee Gov. Bill Haslam answers questions a...</td>\n",
       "      <td>0</td>\n",
       "    </tr>\n",
       "    <tr>\n",
       "      <th>25</th>\n",
       "      <td>In Sri Lanka, over 3 million people use public...</td>\n",
       "      <td>0</td>\n",
       "    </tr>\n",
       "    <tr>\n",
       "      <th>...</th>\n",
       "      <td>...</td>\n",
       "      <td>...</td>\n",
       "    </tr>\n",
       "    <tr>\n",
       "      <th>196</th>\n",
       "      <td>['Does it include deceitful mental cult abuse ...</td>\n",
       "      <td>0</td>\n",
       "    </tr>\n",
       "    <tr>\n",
       "      <th>197</th>\n",
       "      <td>['\"At least three grand jury witnesses said in...</td>\n",
       "      <td>0</td>\n",
       "    </tr>\n",
       "    <tr>\n",
       "      <th>198</th>\n",
       "      <td>[\"He and this whole situation is so shady. I w...</td>\n",
       "      <td>0</td>\n",
       "    </tr>\n",
       "    <tr>\n",
       "      <th>199</th>\n",
       "      <td>[\"Welcome to Reddit's most active feminist com...</td>\n",
       "      <td>0</td>\n",
       "    </tr>\n",
       "    <tr>\n",
       "      <th>200</th>\n",
       "      <td>['In short- Conscripts in Thailand face rampan...</td>\n",
       "      <td>0</td>\n",
       "    </tr>\n",
       "  </tbody>\n",
       "</table>\n",
       "<p>772 rows × 2 columns</p>\n",
       "</div>"
      ],
      "text/plain": [
       "                                                  text  sentiment\n",
       "3    But in interviews with The New York Times and ...          0\n",
       "4    Every year, sexual harassment in the workplace...          0\n",
       "10   Incidents of sexual harassment at work increas...          0\n",
       "14   Tennessee Gov. Bill Haslam answers questions a...          0\n",
       "25   In Sri Lanka, over 3 million people use public...          0\n",
       "..                                                 ...        ...\n",
       "196  ['Does it include deceitful mental cult abuse ...          0\n",
       "197  ['\"At least three grand jury witnesses said in...          0\n",
       "198  [\"He and this whole situation is so shady. I w...          0\n",
       "199  [\"Welcome to Reddit's most active feminist com...          0\n",
       "200  ['In short- Conscripts in Thailand face rampan...          0\n",
       "\n",
       "[772 rows x 2 columns]"
      ]
     },
     "execution_count": 60,
     "metadata": {},
     "output_type": "execute_result"
    }
   ],
   "source": [
    "allCombs"
   ]
  },
  {
   "cell_type": "code",
   "execution_count": 61,
   "metadata": {
    "colab": {},
    "colab_type": "code",
    "id": "oHF-v06tVhcN"
   },
   "outputs": [],
   "source": [
    "positiveWithJustText = positiveWithJustText.iloc[:1000] "
   ]
  },
  {
   "cell_type": "code",
   "execution_count": 62,
   "metadata": {
    "colab": {
     "base_uri": "https://localhost:8080/",
     "height": 419
    },
    "colab_type": "code",
    "id": "s_CyJUEQWW2q",
    "outputId": "16d4b876-515d-443d-c15f-8f73f70a45ee"
   },
   "outputs": [
    {
     "data": {
      "text/html": [
       "<div>\n",
       "<style scoped>\n",
       "    .dataframe tbody tr th:only-of-type {\n",
       "        vertical-align: middle;\n",
       "    }\n",
       "\n",
       "    .dataframe tbody tr th {\n",
       "        vertical-align: top;\n",
       "    }\n",
       "\n",
       "    .dataframe thead th {\n",
       "        text-align: right;\n",
       "    }\n",
       "</style>\n",
       "<table border=\"1\" class=\"dataframe\">\n",
       "  <thead>\n",
       "    <tr style=\"text-align: right;\">\n",
       "      <th></th>\n",
       "      <th>text</th>\n",
       "      <th>sentiment</th>\n",
       "    </tr>\n",
       "  </thead>\n",
       "  <tbody>\n",
       "    <tr>\n",
       "      <th>800000</th>\n",
       "      <td>I LOVE @Health4UandPets u guys r the best!!</td>\n",
       "      <td>4</td>\n",
       "    </tr>\n",
       "    <tr>\n",
       "      <th>800001</th>\n",
       "      <td>im meeting up with one of my besties tonight! ...</td>\n",
       "      <td>4</td>\n",
       "    </tr>\n",
       "    <tr>\n",
       "      <th>800002</th>\n",
       "      <td>@DaRealSunisaKim Thanks for the Twitter add, S...</td>\n",
       "      <td>4</td>\n",
       "    </tr>\n",
       "    <tr>\n",
       "      <th>800003</th>\n",
       "      <td>Being sick can be really cheap when it hurts t...</td>\n",
       "      <td>4</td>\n",
       "    </tr>\n",
       "    <tr>\n",
       "      <th>800004</th>\n",
       "      <td>@LovesBrooklyn2 he has that effect on everyone</td>\n",
       "      <td>4</td>\n",
       "    </tr>\n",
       "    <tr>\n",
       "      <th>...</th>\n",
       "      <td>...</td>\n",
       "      <td>...</td>\n",
       "    </tr>\n",
       "    <tr>\n",
       "      <th>800995</th>\n",
       "      <td>I have this strange desire to go to confession...</td>\n",
       "      <td>4</td>\n",
       "    </tr>\n",
       "    <tr>\n",
       "      <th>800996</th>\n",
       "      <td>@i_reporter answer sent in dm. try it</td>\n",
       "      <td>4</td>\n",
       "    </tr>\n",
       "    <tr>\n",
       "      <th>800997</th>\n",
       "      <td>@brooklynunion cuz ur 3pm is my 9am and Id be ...</td>\n",
       "      <td>4</td>\n",
       "    </tr>\n",
       "    <tr>\n",
       "      <th>800998</th>\n",
       "      <td>@littrellfans Its all good. Just figured you w...</td>\n",
       "      <td>4</td>\n",
       "    </tr>\n",
       "    <tr>\n",
       "      <th>800999</th>\n",
       "      <td>@nicolerichie Yea I remember it</td>\n",
       "      <td>4</td>\n",
       "    </tr>\n",
       "  </tbody>\n",
       "</table>\n",
       "<p>1000 rows × 2 columns</p>\n",
       "</div>"
      ],
      "text/plain": [
       "                                                     text  sentiment\n",
       "800000       I LOVE @Health4UandPets u guys r the best!!           4\n",
       "800001  im meeting up with one of my besties tonight! ...          4\n",
       "800002  @DaRealSunisaKim Thanks for the Twitter add, S...          4\n",
       "800003  Being sick can be really cheap when it hurts t...          4\n",
       "800004    @LovesBrooklyn2 he has that effect on everyone           4\n",
       "...                                                   ...        ...\n",
       "800995  I have this strange desire to go to confession...          4\n",
       "800996             @i_reporter answer sent in dm. try it           4\n",
       "800997  @brooklynunion cuz ur 3pm is my 9am and Id be ...          4\n",
       "800998  @littrellfans Its all good. Just figured you w...          4\n",
       "800999                   @nicolerichie Yea I remember it           4\n",
       "\n",
       "[1000 rows x 2 columns]"
      ]
     },
     "execution_count": 62,
     "metadata": {},
     "output_type": "execute_result"
    }
   ],
   "source": [
    "positiveWithJustText"
   ]
  },
  {
   "cell_type": "code",
   "execution_count": 63,
   "metadata": {
    "colab": {},
    "colab_type": "code",
    "id": "cLIGq4e_XQoG"
   },
   "outputs": [],
   "source": [
    "allCombsWithNP = pd.concat([allCombs,positiveWithJustText], axis=0)"
   ]
  },
  {
   "cell_type": "code",
   "execution_count": 64,
   "metadata": {
    "colab": {
     "base_uri": "https://localhost:8080/",
     "height": 122
    },
    "colab_type": "code",
    "id": "sXuBg-ugYpc0",
    "outputId": "a3c8b996-2810-47c3-932c-3c11664f8879"
   },
   "outputs": [
    {
     "name": "stderr",
     "output_type": "stream",
     "text": [
      "/usr/local/lib/python3.5/dist-packages/pandas/core/indexing.py:205: SettingWithCopyWarning: \n",
      "A value is trying to be set on a copy of a slice from a DataFrame\n",
      "\n",
      "See the caveats in the documentation: http://pandas.pydata.org/pandas-docs/stable/user_guide/indexing.html#returning-a-view-versus-a-copy\n",
      "  self._setitem_with_indexer(indexer, value)\n"
     ]
    }
   ],
   "source": [
    "allCombsWithNP['sentiment'].loc[(allCombsWithNP['sentiment'] > 0)] = 1"
   ]
  },
  {
   "cell_type": "code",
   "execution_count": 65,
   "metadata": {
    "colab": {
     "base_uri": "https://localhost:8080/",
     "height": 419
    },
    "colab_type": "code",
    "id": "CCUFcu7OXh9D",
    "outputId": "906d2f30-854a-4989-b7e8-c7a991bed891"
   },
   "outputs": [
    {
     "data": {
      "text/html": [
       "<div>\n",
       "<style scoped>\n",
       "    .dataframe tbody tr th:only-of-type {\n",
       "        vertical-align: middle;\n",
       "    }\n",
       "\n",
       "    .dataframe tbody tr th {\n",
       "        vertical-align: top;\n",
       "    }\n",
       "\n",
       "    .dataframe thead th {\n",
       "        text-align: right;\n",
       "    }\n",
       "</style>\n",
       "<table border=\"1\" class=\"dataframe\">\n",
       "  <thead>\n",
       "    <tr style=\"text-align: right;\">\n",
       "      <th></th>\n",
       "      <th>text</th>\n",
       "      <th>sentiment</th>\n",
       "    </tr>\n",
       "  </thead>\n",
       "  <tbody>\n",
       "    <tr>\n",
       "      <th>3</th>\n",
       "      <td>But in interviews with The New York Times and ...</td>\n",
       "      <td>0</td>\n",
       "    </tr>\n",
       "    <tr>\n",
       "      <th>4</th>\n",
       "      <td>Every year, sexual harassment in the workplace...</td>\n",
       "      <td>0</td>\n",
       "    </tr>\n",
       "    <tr>\n",
       "      <th>10</th>\n",
       "      <td>Incidents of sexual harassment at work increas...</td>\n",
       "      <td>0</td>\n",
       "    </tr>\n",
       "    <tr>\n",
       "      <th>14</th>\n",
       "      <td>Tennessee Gov. Bill Haslam answers questions a...</td>\n",
       "      <td>0</td>\n",
       "    </tr>\n",
       "    <tr>\n",
       "      <th>25</th>\n",
       "      <td>In Sri Lanka, over 3 million people use public...</td>\n",
       "      <td>0</td>\n",
       "    </tr>\n",
       "    <tr>\n",
       "      <th>...</th>\n",
       "      <td>...</td>\n",
       "      <td>...</td>\n",
       "    </tr>\n",
       "    <tr>\n",
       "      <th>800995</th>\n",
       "      <td>I have this strange desire to go to confession...</td>\n",
       "      <td>1</td>\n",
       "    </tr>\n",
       "    <tr>\n",
       "      <th>800996</th>\n",
       "      <td>@i_reporter answer sent in dm. try it</td>\n",
       "      <td>1</td>\n",
       "    </tr>\n",
       "    <tr>\n",
       "      <th>800997</th>\n",
       "      <td>@brooklynunion cuz ur 3pm is my 9am and Id be ...</td>\n",
       "      <td>1</td>\n",
       "    </tr>\n",
       "    <tr>\n",
       "      <th>800998</th>\n",
       "      <td>@littrellfans Its all good. Just figured you w...</td>\n",
       "      <td>1</td>\n",
       "    </tr>\n",
       "    <tr>\n",
       "      <th>800999</th>\n",
       "      <td>@nicolerichie Yea I remember it</td>\n",
       "      <td>1</td>\n",
       "    </tr>\n",
       "  </tbody>\n",
       "</table>\n",
       "<p>1772 rows × 2 columns</p>\n",
       "</div>"
      ],
      "text/plain": [
       "                                                     text  sentiment\n",
       "3       But in interviews with The New York Times and ...          0\n",
       "4       Every year, sexual harassment in the workplace...          0\n",
       "10      Incidents of sexual harassment at work increas...          0\n",
       "14      Tennessee Gov. Bill Haslam answers questions a...          0\n",
       "25      In Sri Lanka, over 3 million people use public...          0\n",
       "...                                                   ...        ...\n",
       "800995  I have this strange desire to go to confession...          1\n",
       "800996             @i_reporter answer sent in dm. try it           1\n",
       "800997  @brooklynunion cuz ur 3pm is my 9am and Id be ...          1\n",
       "800998  @littrellfans Its all good. Just figured you w...          1\n",
       "800999                   @nicolerichie Yea I remember it           1\n",
       "\n",
       "[1772 rows x 2 columns]"
      ]
     },
     "execution_count": 65,
     "metadata": {},
     "output_type": "execute_result"
    }
   ],
   "source": [
    "allCombsWithNP"
   ]
  },
  {
   "cell_type": "code",
   "execution_count": 66,
   "metadata": {
    "colab": {
     "base_uri": "https://localhost:8080/",
     "height": 80
    },
    "colab_type": "code",
    "id": "bQvmDL2vXi3J",
    "outputId": "5c3ede8e-0d9d-4a68-f87a-93ae6659df8d"
   },
   "outputs": [
    {
     "name": "stderr",
     "output_type": "stream",
     "text": [
      "Using TensorFlow backend.\n"
     ]
    }
   ],
   "source": [
    "import pandas as pd\n",
    "import numpy as np\n",
    "import matplotlib.pyplot as plt\n",
    "import seaborn as sns\n",
    "sns.set(style=\"white\", rc={\"axes.facecolor\": (0, 0, 0, 0)})\n",
    "from wordcloud import WordCloud, STOPWORDS\n",
    "from collections import Counter\n",
    "np.random.seed(10)\n",
    "from numpy import array\n",
    "import keras.backend as K\n",
    "from numpy import asarray\n",
    "from numpy import zeros\n",
    "from keras.preprocessing.text import Tokenizer\n",
    "from keras.preprocessing.sequence import pad_sequences\n",
    "from keras.models import Sequential\n",
    "from keras.layers import Dense\n",
    "from keras.layers import Flatten\n",
    "from keras.layers import Embedding,LSTM\n",
    "from keras.layers import Dense, Input, GlobalMaxPooling1D\n",
    "from keras.layers import Conv1D, MaxPooling1D, Embedding\n",
    "from keras.models import Model"
   ]
  },
  {
   "cell_type": "code",
   "execution_count": 67,
   "metadata": {
    "colab": {
     "base_uri": "https://localhost:8080/",
     "height": 796
    },
    "colab_type": "code",
    "id": "r-zG6Nc0YALr",
    "outputId": "e634ec0d-fbde-4b40-bd9d-46cfa2467ef8"
   },
   "outputs": [
    {
     "name": "stdout",
     "output_type": "stream",
     "text": [
      "Total  unique words : 91508\n",
      "label : 0\n",
      "unique words : 89061\n"
     ]
    },
    {
     "data": {
      "image/png": "[encoded data removed]",
      "text/plain": [
       "<Figure size 1008x2304 with 1 Axes>"
      ]
     },
     "metadata": {
      "needs_background": "light"
     },
     "output_type": "display_data"
    },
    {
     "name": "stdout",
     "output_type": "stream",
     "text": [
      "label : 1\n",
      "unique words : 5041\n"
     ]
    },
    {
     "data": {
      "image/png": "[encoded data removed]",
      "text/plain": [
       "<Figure size 1008x2304 with 1 Axes>"
      ]
     },
     "metadata": {
      "needs_background": "light"
     },
     "output_type": "display_data"
    }
   ],
   "source": [
    "sentences = ' '.join(allCombsWithNP.text.values)\n",
    "print('Total  unique words :' , len(set(sentences.split(' '))))\n",
    "stopwords = set(STOPWORDS)\n",
    "\n",
    "\n",
    "for label in range(2):\n",
    "    \n",
    "    print('label :' , label)\n",
    "    sub_sentences = ' '.join(allCombsWithNP.loc[allCombsWithNP.sentiment == label, 'text'].values)\n",
    "    print('unique words :' , len(set(sub_sentences.split(' '))))\n",
    "    \n",
    "    wc = WordCloud(background_color='white', width=1200, height=512,\n",
    "                   max_words=1500, stopwords=stopwords, margin=8,\n",
    "                   random_state=2003).generate(sub_sentences)\n",
    "\n",
    "    plt.figure(figsize=(14 , 32))\n",
    "    plt.imshow(wc)\n",
    "    plt.axis('off')\n",
    "    plt.show()\n"
   ]
  },
  {
   "cell_type": "code",
   "execution_count": 68,
   "metadata": {
    "colab": {
     "base_uri": "https://localhost:8080/",
     "height": 731
    },
    "colab_type": "code",
    "id": "V1Or5007ZAx7",
    "outputId": "5f07adac-d325-4443-9c98-d600dfdab29a"
   },
   "outputs": [
    {
     "name": "stdout",
     "output_type": "stream",
     "text": [
      "       0      1\n",
      "0    the  36412\n",
      "1     to  28475\n",
      "2    and  23404\n",
      "3      a  23030\n",
      "4     of  20310\n",
      "5      I  15702\n",
      "6   that  14013\n",
      "7     in  13437\n",
      "8     is  12706\n",
      "9    you   9410\n",
      "10   was   9351\n",
      "11    it   9051\n",
      "12   for   9005\n",
      "13         7066\n",
      "14    be   6543\n",
      "15  with   6494\n",
      "16   are   6390\n",
      "17   not   6264\n",
      "18  have   6213\n",
      "19  this   5829\n",
      "                                                       0  1\n",
      "91488                                             Susan.  1\n",
      "91489                                          presumían  1\n",
      "91490                                          (Virginia  1\n",
      "91491                                        blockers.\",  1\n",
      "91492                                               Yes?  1\n",
      "91493                                             nerdy,  1\n",
      "91494                                           Pizza!',  1\n",
      "91495                                                 WW  1\n",
      "91496                                     organizations?  1\n",
      "91497                         espionage.\\n\\nUniversities  1\n",
      "91498                            &quot;convenience&quot;  1\n",
      "91499                                           program;  1\n",
      "91500                                            lucky',  1\n",
      "91501                                             karts,  1\n",
      "91502                                     constructively  1\n",
      "91503  that...\\n\\nhttp://www.vatican.va/archive/ccc_c...  1\n",
      "91504                                         'everybody  1\n",
      "91505                                          prenderte  1\n",
      "91506                                          billions.  1\n",
      "91507                                        Grammatical  1\n"
     ]
    }
   ],
   "source": [
    "counts = dict(Counter(sentences.split(' ')))\n",
    "counts = pd.DataFrame([counts.keys() , counts.values()]).T.sort_values(1 , ascending = False).reset_index(drop = True)\n",
    "\n",
    "print(counts.head(20))\n",
    "print(counts.tail(20))"
   ]
  },
  {
   "cell_type": "code",
   "execution_count": 69,
   "metadata": {
    "colab": {
     "base_uri": "https://localhost:8080/",
     "height": 119
    },
    "colab_type": "code",
    "id": "KbT2An5lZd_z",
    "outputId": "5f33db5d-549e-4c7d-8632-cf010bb7e862"
   },
   "outputs": [
    {
     "name": "stderr",
     "output_type": "stream",
     "text": [
      "[nltk_data] Downloading package punkt to /home/akoirala/nltk_data...\n",
      "[nltk_data]   Package punkt is already up-to-date!\n",
      "[nltk_data] Downloading package stopwords to\n",
      "[nltk_data]     /home/akoirala/nltk_data...\n",
      "[nltk_data]   Package stopwords is already up-to-date!\n",
      "[nltk_data] Downloading package wordnet to /home/akoirala/nltk_data...\n",
      "[nltk_data]   Package wordnet is already up-to-date!\n"
     ]
    }
   ],
   "source": [
    "import nltk\n",
    "import random\n",
    "nltk.download('punkt')\n",
    "nltk.download('stopwords')\n",
    "nltk.download('wordnet')\n",
    "from nltk.tokenize import word_tokenize"
   ]
  },
  {
   "cell_type": "code",
   "execution_count": 70,
   "metadata": {
    "colab": {
     "base_uri": "https://localhost:8080/",
     "height": 34
    },
    "colab_type": "code",
    "id": "GmTJL2Eia825",
    "outputId": "24d5144c-063f-419d-f9d4-4340af77d100"
   },
   "outputs": [
    {
     "data": {
      "text/plain": [
       "1772"
      ]
     },
     "execution_count": 70,
     "metadata": {},
     "output_type": "execute_result"
    }
   ],
   "source": [
    "allCombsWithNP.shape[0]"
   ]
  },
  {
   "cell_type": "code",
   "execution_count": 71,
   "metadata": {
    "colab": {},
    "colab_type": "code",
    "id": "xjW8M5gDgEM2"
   },
   "outputs": [],
   "source": [
    "allCombsWithNP.reset_index(drop=True, inplace=True)"
   ]
  },
  {
   "cell_type": "code",
   "execution_count": 72,
   "metadata": {
    "colab": {
     "base_uri": "https://localhost:8080/",
     "height": 419
    },
    "colab_type": "code",
    "id": "W93YhV3Ig7Mx",
    "outputId": "eb449863-ac9a-4d97-c175-02d3a313dfa9"
   },
   "outputs": [
    {
     "data": {
      "text/html": [
       "<div>\n",
       "<style scoped>\n",
       "    .dataframe tbody tr th:only-of-type {\n",
       "        vertical-align: middle;\n",
       "    }\n",
       "\n",
       "    .dataframe tbody tr th {\n",
       "        vertical-align: top;\n",
       "    }\n",
       "\n",
       "    .dataframe thead th {\n",
       "        text-align: right;\n",
       "    }\n",
       "</style>\n",
       "<table border=\"1\" class=\"dataframe\">\n",
       "  <thead>\n",
       "    <tr style=\"text-align: right;\">\n",
       "      <th></th>\n",
       "      <th>text</th>\n",
       "      <th>sentiment</th>\n",
       "    </tr>\n",
       "  </thead>\n",
       "  <tbody>\n",
       "    <tr>\n",
       "      <th>0</th>\n",
       "      <td>But in interviews with The New York Times and ...</td>\n",
       "      <td>0</td>\n",
       "    </tr>\n",
       "    <tr>\n",
       "      <th>1</th>\n",
       "      <td>Every year, sexual harassment in the workplace...</td>\n",
       "      <td>0</td>\n",
       "    </tr>\n",
       "    <tr>\n",
       "      <th>2</th>\n",
       "      <td>Incidents of sexual harassment at work increas...</td>\n",
       "      <td>0</td>\n",
       "    </tr>\n",
       "    <tr>\n",
       "      <th>3</th>\n",
       "      <td>Tennessee Gov. Bill Haslam answers questions a...</td>\n",
       "      <td>0</td>\n",
       "    </tr>\n",
       "    <tr>\n",
       "      <th>4</th>\n",
       "      <td>In Sri Lanka, over 3 million people use public...</td>\n",
       "      <td>0</td>\n",
       "    </tr>\n",
       "    <tr>\n",
       "      <th>...</th>\n",
       "      <td>...</td>\n",
       "      <td>...</td>\n",
       "    </tr>\n",
       "    <tr>\n",
       "      <th>1767</th>\n",
       "      <td>I have this strange desire to go to confession...</td>\n",
       "      <td>1</td>\n",
       "    </tr>\n",
       "    <tr>\n",
       "      <th>1768</th>\n",
       "      <td>@i_reporter answer sent in dm. try it</td>\n",
       "      <td>1</td>\n",
       "    </tr>\n",
       "    <tr>\n",
       "      <th>1769</th>\n",
       "      <td>@brooklynunion cuz ur 3pm is my 9am and Id be ...</td>\n",
       "      <td>1</td>\n",
       "    </tr>\n",
       "    <tr>\n",
       "      <th>1770</th>\n",
       "      <td>@littrellfans Its all good. Just figured you w...</td>\n",
       "      <td>1</td>\n",
       "    </tr>\n",
       "    <tr>\n",
       "      <th>1771</th>\n",
       "      <td>@nicolerichie Yea I remember it</td>\n",
       "      <td>1</td>\n",
       "    </tr>\n",
       "  </tbody>\n",
       "</table>\n",
       "<p>1772 rows × 2 columns</p>\n",
       "</div>"
      ],
      "text/plain": [
       "                                                   text  sentiment\n",
       "0     But in interviews with The New York Times and ...          0\n",
       "1     Every year, sexual harassment in the workplace...          0\n",
       "2     Incidents of sexual harassment at work increas...          0\n",
       "3     Tennessee Gov. Bill Haslam answers questions a...          0\n",
       "4     In Sri Lanka, over 3 million people use public...          0\n",
       "...                                                 ...        ...\n",
       "1767  I have this strange desire to go to confession...          1\n",
       "1768             @i_reporter answer sent in dm. try it           1\n",
       "1769  @brooklynunion cuz ur 3pm is my 9am and Id be ...          1\n",
       "1770  @littrellfans Its all good. Just figured you w...          1\n",
       "1771                   @nicolerichie Yea I remember it           1\n",
       "\n",
       "[1772 rows x 2 columns]"
      ]
     },
     "execution_count": 72,
     "metadata": {},
     "output_type": "execute_result"
    }
   ],
   "source": [
    "allCombsWithNP\n"
   ]
  },
  {
   "cell_type": "code",
   "execution_count": 73,
   "metadata": {},
   "outputs": [],
   "source": [
    "allCombsWithNP=allCombsWithNP.reindex(np.random.RandomState(seed=2003).permutation(allCombsWithNP.index))"
   ]
  },
  {
   "cell_type": "code",
   "execution_count": 74,
   "metadata": {},
   "outputs": [],
   "source": [
    "allCombsWithNP.reset_index(drop=True, inplace=True)\n"
   ]
  },
  {
   "cell_type": "code",
   "execution_count": 75,
   "metadata": {},
   "outputs": [
    {
     "data": {
      "text/html": [
       "<div>\n",
       "<style scoped>\n",
       "    .dataframe tbody tr th:only-of-type {\n",
       "        vertical-align: middle;\n",
       "    }\n",
       "\n",
       "    .dataframe tbody tr th {\n",
       "        vertical-align: top;\n",
       "    }\n",
       "\n",
       "    .dataframe thead th {\n",
       "        text-align: right;\n",
       "    }\n",
       "</style>\n",
       "<table border=\"1\" class=\"dataframe\">\n",
       "  <thead>\n",
       "    <tr style=\"text-align: right;\">\n",
       "      <th></th>\n",
       "      <th>text</th>\n",
       "      <th>sentiment</th>\n",
       "    </tr>\n",
       "  </thead>\n",
       "  <tbody>\n",
       "    <tr>\n",
       "      <th>0</th>\n",
       "      <td>@mattgalloway Thanks for the hook up with @Car...</td>\n",
       "      <td>1</td>\n",
       "    </tr>\n",
       "    <tr>\n",
       "      <th>1</th>\n",
       "      <td>['Love it! Have you started writing a script f...</td>\n",
       "      <td>0</td>\n",
       "    </tr>\n",
       "    <tr>\n",
       "      <th>2</th>\n",
       "      <td>@Mgpotter You're cute</td>\n",
       "      <td>1</td>\n",
       "    </tr>\n",
       "    <tr>\n",
       "      <th>3</th>\n",
       "      <td>@ddlovato PLEASE FOLLOW ME DEMI!!!</td>\n",
       "      <td>1</td>\n",
       "    </tr>\n",
       "    <tr>\n",
       "      <th>4</th>\n",
       "      <td>['&gt; The report highlighted that Thatcher was a...</td>\n",
       "      <td>0</td>\n",
       "    </tr>\n",
       "    <tr>\n",
       "      <th>...</th>\n",
       "      <td>...</td>\n",
       "      <td>...</td>\n",
       "    </tr>\n",
       "    <tr>\n",
       "      <th>1767</th>\n",
       "      <td>Since I was young my nan has been acting weird...</td>\n",
       "      <td>0</td>\n",
       "    </tr>\n",
       "    <tr>\n",
       "      <th>1768</th>\n",
       "      <td>@MFeatherstone way to pick a winner!</td>\n",
       "      <td>1</td>\n",
       "    </tr>\n",
       "    <tr>\n",
       "      <th>1769</th>\n",
       "      <td>['Ever read \"Curage to heal\"? It has survivor ...</td>\n",
       "      <td>0</td>\n",
       "    </tr>\n",
       "    <tr>\n",
       "      <th>1770</th>\n",
       "      <td>@aussie_ali  yep it makes it so much easier to...</td>\n",
       "      <td>1</td>\n",
       "    </tr>\n",
       "    <tr>\n",
       "      <th>1771</th>\n",
       "      <td>@veronica78 guess i better make more tweets fo...</td>\n",
       "      <td>1</td>\n",
       "    </tr>\n",
       "  </tbody>\n",
       "</table>\n",
       "<p>1772 rows × 2 columns</p>\n",
       "</div>"
      ],
      "text/plain": [
       "                                                   text  sentiment\n",
       "0     @mattgalloway Thanks for the hook up with @Car...          1\n",
       "1     ['Love it! Have you started writing a script f...          0\n",
       "2                                @Mgpotter You're cute           1\n",
       "3                   @ddlovato PLEASE FOLLOW ME DEMI!!!           1\n",
       "4     ['> The report highlighted that Thatcher was a...          0\n",
       "...                                                 ...        ...\n",
       "1767  Since I was young my nan has been acting weird...          0\n",
       "1768              @MFeatherstone way to pick a winner!           1\n",
       "1769  ['Ever read \"Curage to heal\"? It has survivor ...          0\n",
       "1770  @aussie_ali  yep it makes it so much easier to...          1\n",
       "1771  @veronica78 guess i better make more tweets fo...          1\n",
       "\n",
       "[1772 rows x 2 columns]"
      ]
     },
     "execution_count": 75,
     "metadata": {},
     "output_type": "execute_result"
    }
   ],
   "source": [
    "allCombsWithNP"
   ]
  },
  {
   "cell_type": "code",
   "execution_count": 76,
   "metadata": {
    "colab": {},
    "colab_type": "code",
    "id": "o9nC1aAbZmBF"
   },
   "outputs": [],
   "source": [
    "documents = []\n",
    "for i in range(allCombsWithNP.shape[0]):\n",
    "  tmpWords = word_tokenize(allCombsWithNP['text'][i])\n",
    "  documents.append((tmpWords, allCombsWithNP['sentiment'][i]))"
   ]
  },
  {
   "cell_type": "code",
   "execution_count": 77,
   "metadata": {
    "colab": {
     "base_uri": "https://localhost:8080/",
     "height": 54
    },
    "colab_type": "code",
    "id": "1fGzVkBLZqGB",
    "outputId": "a99f9e34-a45e-4d60-f020-2fad8514a147"
   },
   "outputs": [
    {
     "name": "stdout",
     "output_type": "stream",
     "text": [
      "(['Hi', 'yall', ',', 'this', 'is', 'my', 'first', 'post', 'and', 'it', \"'s\", 'quite', 'a', 'hard', 'one', 'for', 'me', 'as', 'you', 'would', 'all', 'understand', '.', 'I', 'was', 'sexual', 'abused', 'by', 'a', 'few', 'friends', 'and', 'stangers', ',', 'rape', 'by', 'my', 'first', 'boyfriend', 'and', 'a', 'guy', 'I', 'went', 'on', 'a', 'date', 'with', '.', 'Its', 'been', 'years', 'since', 'it', 'all', 'happened', ',', 'it', 'has', 'changed', 'me', 'so', 'much', ',', 'I', 'was', 'diagnosed', 'with', 'Bpd', 'after', 'last', 'guy', 'who', 'raped', 'me', 'about', '5', 'years', 'ago', 'and', 'I', 'have', 'gone', 'through', 'a', 'lot', 'of', 'therapy', 'to', 'help', 'with', 'this', 'and', 'I', 'am', 'still', 'healing', 'and', 'still', 'working', 'through', 'it', 'all', 'but', 'I', 'am', 'in', 'a', 'much', 'better', 'place', '.', 'This', 'has', 'effected', 'my', 'current', 'sexual', 'relationship', 'with', 'my', 'fiancé', '.', 'I', 'love', 'him', 'so', 'much', 'and', 'he', 'respect', 'me', 'so', 'much', 'and', 'I', 'want', 'to', 'give', 'him', 'all', 'of', 'me', 'and', 'sometimes', 'I', 'can', 'but', 'most', 'of', 'the', 'time', 'I', 'find', 'it', 'hard', 'to', 'get', 'into', 'the', 'mood', ',', 'to', 'not', 'be', 'anxious', 'about', 'sex', 'and', 'to', 'keep', 'myself', 'wet', '.', 'I', 'feel', 'like', 'I', 'get', 'caught', 'in', 'my', 'head', 'rather', 'than', 'enjoying', 'the', 'experience', 'of', 'him', 'touching', 'me', '.', 'We', 'have', 'taken', 'a', 'break', 'from', 'sex', 'and', 'he', 'is', 'very', 'careful', 'not', 'to', 'trigger', 'me', 'but', 'I', 'just', 'ca', \"n't\", 'seem', 'to', 'go', 'back', 'to', 'normal', 'with', 'my', 'sex', 'life', '.', 'Have', 'anyone', 'experience', 'this', '?', 'Does', 'anyone', 'have', 'advice', '?', 'Please', 'help'], 0)\n"
     ]
    }
   ],
   "source": [
    "random.seed(2003)\n",
    "random.shuffle(documents)\n",
    "\n",
    "print(documents[1])"
   ]
  },
  {
   "cell_type": "code",
   "execution_count": 78,
   "metadata": {
    "colab": {
     "base_uri": "https://localhost:8080/",
     "height": 54
    },
    "colab_type": "code",
    "id": "HhrFXrhMhcow",
    "outputId": "2440b09d-06b7-4013-f627-8c71a2406a63"
   },
   "outputs": [
    {
     "name": "stdout",
     "output_type": "stream",
     "text": [
      "('India wins test series New Zealand 41 years If wasnt rain final day India would third test', 1)\n"
     ]
    }
   ],
   "source": [
    "from nltk.corpus import stopwords\n",
    "from nltk.stem import WordNetLemmatizer, PorterStemmer, LancasterStemmer\n",
    "porter = PorterStemmer()\n",
    "lancaster=LancasterStemmer()\n",
    "wordnet_lemmatizer = WordNetLemmatizer()\n",
    "stopwords_en = stopwords.words(\"english\")\n",
    "punctuations=\"?:!.,;'\\\"-()[]\"\n",
    "\n",
    "#parameters to adjust to see the impact on outcome\n",
    "remove_stopwords = True\n",
    "useStemming = False\n",
    "useLemma = False\n",
    "removePuncs = True\n",
    "useHtmlCleaning = True\n",
    "\n",
    "for l in range(len(documents)):\n",
    "  label = documents[l][1]\n",
    "  tmpReview = []\n",
    "  for w in documents[l][0]:\n",
    "    newWord = w\n",
    "    if remove_stopwords and (w in stopwords_en):\n",
    "      continue\n",
    "    if removePuncs and (w in punctuations):\n",
    "      continue\n",
    "    if useStemming:\n",
    "      #newWord = porter.stem(newWord)\n",
    "      newWord = lancaster.stem(newWord)\n",
    "    if useLemma:\n",
    "      newWord = wordnet_lemmatizer.lemmatize(newWord)\n",
    "    tmpReview.append(newWord)\n",
    "  documents[l] = (' '.join(tmpReview), label)\n",
    "print(documents[2])"
   ]
  },
  {
   "cell_type": "code",
   "execution_count": 79,
   "metadata": {
    "colab": {
     "base_uri": "https://localhost:8080/",
     "height": 34
    },
    "colab_type": "code",
    "id": "Y1FNLPh2hjNI",
    "outputId": "86085c93-af5a-43d4-8400-15a21d5a7851"
   },
   "outputs": [
    {
     "data": {
      "text/plain": [
       "1772"
      ]
     },
     "execution_count": 79,
     "metadata": {},
     "output_type": "execute_result"
    }
   ],
   "source": [
    "len(documents)"
   ]
  },
  {
   "cell_type": "code",
   "execution_count": 80,
   "metadata": {
    "colab": {},
    "colab_type": "code",
    "id": "hFFQspJihlx1"
   },
   "outputs": [],
   "source": [
    "from sklearn.model_selection import train_test_split\n",
    "from keras.utils import to_categorical\n",
    "all_data = pd.DataFrame(documents,\n",
    "                                columns=['text', 'sentiment'])\n",
    "\n",
    "# Splits the dataset so 70% is used for training and 30% for testing\n",
    "x_train_raw, x_test_raw, y_train_raw, y_test_raw = train_test_split(all_data['text'], all_data['sentiment'], test_size=0.3,random_state=2003)"
   ]
  },
  {
   "cell_type": "code",
   "execution_count": 81,
   "metadata": {
    "colab": {},
    "colab_type": "code",
    "id": "iDYLBhpDj86k"
   },
   "outputs": [],
   "source": [
    "t = Tokenizer()\n",
    "t.fit_on_texts(list(x_train_raw))\n",
    "train_vocab_size = len(t.word_index) + 1\n",
    "# integer encode the documents\n",
    "x_train_raw = t.texts_to_sequences(x_train_raw)\n",
    "x_test_raw = t.texts_to_sequences(x_test_raw)"
   ]
  },
  {
   "cell_type": "code",
   "execution_count": 82,
   "metadata": {
    "colab": {},
    "colab_type": "code",
    "id": "qt4KPsdPkCiE"
   },
   "outputs": [],
   "source": [
    "def FindMaxLength(lst): \n",
    "    maxList = max(lst, key = lambda i: len(i)) \n",
    "    maxLength = len(maxList) \n",
    "      \n",
    "    return maxList, maxLength \n",
    "\n",
    "train_mlen=FindMaxLength(x_train_raw)[1]"
   ]
  },
  {
   "cell_type": "code",
   "execution_count": 83,
   "metadata": {
    "colab": {},
    "colab_type": "code",
    "id": "NuyMULbQkTQa"
   },
   "outputs": [
    {
     "name": "stdout",
     "output_type": "stream",
     "text": [
      "256\n"
     ]
    }
   ],
   "source": [
    "mlen=256\n",
    "print(mlen)"
   ]
  },
  {
   "cell_type": "code",
   "execution_count": 84,
   "metadata": {
    "colab": {},
    "colab_type": "code",
    "id": "LIdOh8zLkV1Q"
   },
   "outputs": [],
   "source": [
    "from keras.preprocessing import sequence\n",
    "x_train_raw = sequence.pad_sequences(x_train_raw, maxlen=mlen)\n",
    "x_test_raw = sequence.pad_sequences(x_test_raw, maxlen=mlen)"
   ]
  },
  {
   "cell_type": "code",
   "execution_count": 85,
   "metadata": {
    "colab": {},
    "colab_type": "code",
    "id": "KpUUySNukX4b"
   },
   "outputs": [],
   "source": [
    "def get_coefs(word, *arr):\n",
    "    return word, np.asarray(arr, dtype='float32')\n",
    "    \n",
    "def get_embed_mat(EMBEDDING_FILE, max_features=20000):\n",
    "\n",
    "    embeddings_index = dict(get_coefs(*o.rstrip().rsplit(' ')) for o in open(EMBEDDING_FILE, encoding='utf8'))\n",
    "    print('Found %s word vectors.' % len(embeddings_index))\n",
    "\n",
    "    word_index = t.word_index\n",
    "    num_words = min(max_features, len(word_index) + 1)\n",
    "    all_embs = np.stack(embeddings_index.values()) \n",
    "    embedding_matrix = np.random.normal(all_embs.mean(), all_embs.std(), \n",
    "                                        (num_words, embed_dim))\n",
    "    for word, i in word_index.items():\n",
    "        if i >= max_features:\n",
    "            continue\n",
    "        embedding_vector = embeddings_index.get(word)\n",
    "        if embedding_vector is not None:\n",
    "            embedding_matrix[i] = embedding_vector\n",
    "    max_features = embedding_matrix.shape[0]\n",
    "    \n",
    "    return max_features, embedding_matrix"
   ]
  },
  {
   "cell_type": "code",
   "execution_count": 86,
   "metadata": {
    "colab": {},
    "colab_type": "code",
    "id": "_-RIuMn4kiu6"
   },
   "outputs": [],
   "source": [
    "import numpy as np\n",
    "from keras.callbacks import Callback\n",
    "from sklearn.metrics import confusion_matrix, f1_score, precision_score, recall_score\n",
    "from keras.callbacks import History , ModelCheckpoint\n",
    "import time\n",
    "\n",
    "class TimeHistory(Callback):\n",
    "    def on_train_begin(self, logs={}):\n",
    "        self.times = []\n",
    "\n",
    "    def on_epoch_begin(self, batch, logs={}):\n",
    "        self.epoch_time_start = time.time()\n",
    "\n",
    "    def on_epoch_end(self, batch, logs={}):\n",
    "        self.times.append(time.time() - self.epoch_time_start)\n",
    "class Metrics(Callback):\n",
    "    \n",
    "  def on_train_begin(self, logs={}):\n",
    "    self.val_f1s = []\n",
    "    self.val_recalls = []\n",
    "    self.val_precisions = []\n",
    "  \n",
    "  def on_epoch_end(self, epoch, logs={}):\n",
    "\n",
    "    val_predict = (np.asarray(self.model.predict(self.validation_data[0]))).round()\n",
    "    val_targ = self.validation_data[1]\n",
    "    _val_f1 = f1_score(val_targ, val_predict,average='micro')\n",
    "    _val_recall = recall_score(val_targ, val_predict,average='micro')\n",
    "    _val_precision = precision_score(val_targ, val_predict,average='micro')\n",
    "    self.val_f1s.append(_val_f1)\n",
    "    self.val_recalls.append(_val_recall)\n",
    "    self.val_precisions.append(_val_precision)\n",
    "    print('— val_f1: %f — val_precision: %f — val_recall %f' %(_val_f1, _val_precision, _val_recall))\n",
    "    return\n",
    "history = History()\n",
    "metrics = Metrics()\n",
    "checkpoint = ModelCheckpoint('nlp_lstm_only' , save_best_only=True)\n",
    "time_callback = TimeHistory()\n",
    "\n"
   ]
  },
  {
   "cell_type": "code",
   "execution_count": 87,
   "metadata": {
    "colab": {
     "base_uri": "https://localhost:8080/",
     "height": 422
    },
    "colab_type": "code",
    "id": "0IkPCe4qkl7B",
    "outputId": "dfa6f46d-86bf-4e88-f641-4faa54aa0486"
   },
   "outputs": [
    {
     "name": "stdout",
     "output_type": "stream",
     "text": [
      "Found 400000 word vectors.\n"
     ]
    },
    {
     "name": "stderr",
     "output_type": "stream",
     "text": [
      "/usr/local/lib/python3.5/dist-packages/IPython/core/interactiveshell.py:3326: FutureWarning: arrays to stack must be passed as a \"sequence\" type such as list or tuple. Support for non-sequence iterables such as generators is deprecated as of NumPy 1.16 and will raise an error in the future.\n",
      "  exec(code_obj, self.user_global_ns, self.user_ns)\n"
     ]
    }
   ],
   "source": [
    "EMBEDDING_FILE = 'glove.6B.200d.txt'\n",
    "embed_dim = 200 \n",
    "max_features, embedding_matrix = get_embed_mat(EMBEDDING_FILE)"
   ]
  },
  {
   "cell_type": "code",
   "execution_count": 88,
   "metadata": {},
   "outputs": [],
   "source": [
    "from keras.layers import LSTM,Bidirectional\n",
    "from keras.layers import Dense, Dropout, Activation,SpatialDropout1D"
   ]
  },
  {
   "cell_type": "code",
   "execution_count": 89,
   "metadata": {},
   "outputs": [
    {
     "name": "stdout",
     "output_type": "stream",
     "text": [
      "WARNING:tensorflow:From /usr/local/lib/python3.5/dist-packages/tensorflow_core/python/ops/resource_variable_ops.py:1630: calling BaseResourceVariable.__init__ (from tensorflow.python.ops.resource_variable_ops) with constraint is deprecated and will be removed in a future version.\n",
      "Instructions for updating:\n",
      "If using Keras pass *_constraint arguments to layers.\n",
      "WARNING:tensorflow:From /usr/local/lib/python3.5/dist-packages/tensorflow_core/python/ops/nn_impl.py:183: where (from tensorflow.python.ops.array_ops) is deprecated and will be removed in a future version.\n",
      "Instructions for updating:\n",
      "Use tf.where in 2.0, which has the same broadcast rule as np.where\n",
      "WARNING:tensorflow:From /usr/local/lib/python3.5/dist-packages/keras/backend/tensorflow_backend.py:422: The name tf.global_variables is deprecated. Please use tf.compat.v1.global_variables instead.\n",
      "\n",
      "Train on 868 samples, validate on 372 samples\n",
      "Epoch 1/10\n",
      "868/868 [==============================] - 18s 20ms/step - loss: 0.2046 - accuracy: 0.9309 - val_loss: 0.1242 - val_accuracy: 0.9570\n",
      "— val_f1: 0.956989 — val_precision: 0.956989 — val_recall 0.956989\n",
      "Epoch 2/10\n",
      "868/868 [==============================] - 19s 22ms/step - loss: 0.0982 - accuracy: 0.9700 - val_loss: 0.1223 - val_accuracy: 0.9677\n",
      "— val_f1: 0.967742 — val_precision: 0.967742 — val_recall 0.967742\n",
      "Epoch 3/10\n",
      "868/868 [==============================] - 17s 19ms/step - loss: 0.0998 - accuracy: 0.9700 - val_loss: 0.0878 - val_accuracy: 0.9758\n",
      "— val_f1: 0.975806 — val_precision: 0.975806 — val_recall 0.975806\n",
      "Epoch 4/10\n",
      "868/868 [==============================] - 17s 19ms/step - loss: 0.0519 - accuracy: 0.9816 - val_loss: 0.0901 - val_accuracy: 0.9758\n",
      "— val_f1: 0.975806 — val_precision: 0.975806 — val_recall 0.975806\n",
      "Epoch 5/10\n",
      "868/868 [==============================] - 17s 19ms/step - loss: 0.0280 - accuracy: 0.9919 - val_loss: 0.0827 - val_accuracy: 0.9785\n",
      "— val_f1: 0.978495 — val_precision: 0.978495 — val_recall 0.978495\n",
      "Epoch 6/10\n",
      "868/868 [==============================] - 17s 19ms/step - loss: 0.0145 - accuracy: 0.9965 - val_loss: 0.1043 - val_accuracy: 0.9731\n",
      "— val_f1: 0.973118 — val_precision: 0.973118 — val_recall 0.973118\n",
      "Epoch 7/10\n",
      "868/868 [==============================] - 17s 19ms/step - loss: 0.0079 - accuracy: 0.9965 - val_loss: 0.1398 - val_accuracy: 0.9704\n",
      "— val_f1: 0.970430 — val_precision: 0.970430 — val_recall 0.970430\n",
      "Epoch 8/10\n",
      "868/868 [==============================] - 17s 19ms/step - loss: 0.0043 - accuracy: 0.9988 - val_loss: 0.1432 - val_accuracy: 0.9704\n",
      "— val_f1: 0.970430 — val_precision: 0.970430 — val_recall 0.970430\n",
      "Epoch 9/10\n",
      "868/868 [==============================] - 17s 19ms/step - loss: 0.0031 - accuracy: 0.9988 - val_loss: 0.1664 - val_accuracy: 0.9704\n",
      "— val_f1: 0.970430 — val_precision: 0.970430 — val_recall 0.970430\n",
      "Epoch 10/10\n",
      "868/868 [==============================] - 17s 19ms/step - loss: 0.0023 - accuracy: 0.9988 - val_loss: 0.1685 - val_accuracy: 0.9677\n",
      "— val_f1: 0.967742 — val_precision: 0.967742 — val_recall 0.967742\n"
     ]
    },
    {
     "data": {
      "text/plain": [
       "<keras.callbacks.callbacks.History at 0x7f8da13b8400>"
      ]
     },
     "execution_count": 89,
     "metadata": {},
     "output_type": "execute_result"
    }
   ],
   "source": [
    "model_glove = Sequential()\n",
    "model_glove.add(Embedding(max_features, embed_dim, input_length=x_train_raw.shape[1],\n",
    "                       weights=[embedding_matrix]))\n",
    "model_glove.add(Dropout(0.2))\n",
    "model_glove.add(LSTM(100))\n",
    "model_glove.add(Dense(1, activation='sigmoid'))\n",
    "model_glove.compile(loss='binary_crossentropy', optimizer='adam', metrics=['accuracy'])\n",
    "model_glove.fit(x_train_raw, y_train_raw, validation_split=0.3, \n",
    "          epochs=10, batch_size=16,callbacks=[metrics,history , checkpoint, time_callback])"
   ]
  },
  {
   "cell_type": "code",
   "execution_count": 90,
   "metadata": {},
   "outputs": [],
   "source": [
    "h,accuracy = model_glove.evaluate(x_test_raw,y_test_raw,batch_size=16,verbose=2)"
   ]
  },
  {
   "cell_type": "code",
   "execution_count": 91,
   "metadata": {},
   "outputs": [
    {
     "name": "stdout",
     "output_type": "stream",
     "text": [
      "Accuracy 0.9680451154708862\n"
     ]
    }
   ],
   "source": [
    "print(\"Accuracy\",accuracy)"
   ]
  },
  {
   "cell_type": "code",
   "execution_count": 92,
   "metadata": {},
   "outputs": [],
   "source": [
    "model_history = np.array(history.history)\n",
    "np.save('only_lstm_model_history', model_history)\n",
    "\n",
    "model_time = np.array(time_callback.times)\n",
    "np.save('only_lstm_model_time', model_time)\n",
    "\n",
    "model_recall= np.array(metrics.val_recalls)\n",
    "np.save('only_lstm_model_recall', model_recall)\n",
    "\n",
    "model_f1 = np.array(metrics.val_f1s)\n",
    "np.save('only_lstm_model_f1', model_f1)\n",
    "\n",
    "model_pre = np.array(metrics.val_precisions)\n",
    "np.save('only_lstm_model_pre', model_pre)"
   ]
  },
  {
   "cell_type": "code",
   "execution_count": 93,
   "metadata": {},
   "outputs": [],
   "source": [
    "import numpy as np\n",
    "import matplotlib.pyplot as plt\n",
    "from matplotlib.pyplot import ylim, xticks, savefig\n",
    "from matplotlib.ticker import MaxNLocator"
   ]
  },
  {
   "cell_type": "code",
   "execution_count": 94,
   "metadata": {},
   "outputs": [],
   "source": [
    "model_history1 = np.load('only_lstm_model_history.npy', allow_pickle=True)\n",
    "model_recall = np.load('only_lstm_model_recall.npy', allow_pickle=True)\n",
    "model_pre=  np.load('only_lstm_model_pre.npy', allow_pickle=True)\n",
    "modeel_f1 = np.load('only_lstm_model_f1.npy', allow_pickle=True)"
   ]
  },
  {
   "cell_type": "code",
   "execution_count": 95,
   "metadata": {},
   "outputs": [],
   "source": [
    "val_acc1 = model_history1.item().get('val_accuracy')"
   ]
  },
  {
   "cell_type": "code",
   "execution_count": 96,
   "metadata": {},
   "outputs": [],
   "source": [
    "accc1 = model_history1.item().get('accuracy')"
   ]
  },
  {
   "cell_type": "code",
   "execution_count": 105,
   "metadata": {},
   "outputs": [
    {
     "data": {
      "image/png": "[encoded data removed]",
      "text/plain": [
       "<Figure size 432x288 with 1 Axes>"
      ]
     },
     "metadata": {
      "needs_background": "light"
     },
     "output_type": "display_data"
    }
   ],
   "source": [
    "x1 = [1,2,3,4,5,6,7,8,9,10]\n",
    "y1 = accc1\n",
    "plt.plot(x1, y1, label = \"training accuracy\")\n",
    "x2 = [1,2,3,4,5,6,7,8,9,10]\n",
    "y2 = val_acc1\n",
    "plt.plot(x2, y2, label = \"validation accuracy\")\n",
    "plt.xlabel('Epochs')\n",
    "plt.ylabel('Accuracy')\n",
    "plt.title('LSTM MODEL')\n",
    "plt.legend(facecolor='white', framealpha=1)\n",
    "plt.savefig('lstmonlyvt.png')\n",
    "plt.show()"
   ]
  },
  {
   "cell_type": "code",
   "execution_count": 104,
   "metadata": {},
   "outputs": [
    {
     "data": {
      "image/png": "[encoded data removed]",
      "text/plain": [
       "<Figure size 432x288 with 1 Axes>"
      ]
     },
     "metadata": {
      "needs_background": "light"
     },
     "output_type": "display_data"
    }
   ],
   "source": [
    "x3 = [1,2,3,4,5,6,7,8,9,10]\n",
    "y3 = modeel_f1\n",
    "plt.plot(x3, y3, label = \"F1 Score\")\n",
    "plt.xlabel('Epochs')\n",
    "plt.ylabel('F1 Score')\n",
    "plt.title('LSTM MODEL F1 Score')\n",
    "plt.legend(facecolor='white', framealpha=1)\n",
    "plt.savefig('lstmonlyf.png')\n",
    "plt.show()"
   ]
  },
  {
   "cell_type": "code",
   "execution_count": 103,
   "metadata": {},
   "outputs": [
    {
     "data": {
      "image/png": "[encoded data removed]",
      "text/plain": [
       "<Figure size 432x288 with 1 Axes>"
      ]
     },
     "metadata": {
      "needs_background": "light"
     },
     "output_type": "display_data"
    }
   ],
   "source": [
    "x3 = [1,2,3,4,5,6,7,8,9,10]\n",
    "y3 = model_pre\n",
    "plt.plot(x3, y3, label = \"Precision\")\n",
    "plt.xlabel('Epochs')\n",
    "plt.ylabel('Precision')\n",
    "plt.title('LSTM MODEL Precision')\n",
    "plt.legend(facecolor='white', framealpha=1)\n",
    "plt.savefig('lstmonlyp.png')\n",
    "plt.show()"
   ]
  },
  {
   "cell_type": "code",
   "execution_count": 102,
   "metadata": {},
   "outputs": [
    {
     "data": {
      "image/png": "[encoded data removed]",
      "text/plain": [
       "<Figure size 432x288 with 1 Axes>"
      ]
     },
     "metadata": {
      "needs_background": "light"
     },
     "output_type": "display_data"
    }
   ],
   "source": [
    "x3 = [1,2,3,4,5,6,7,8,9,10]\n",
    "y3 = model_recall\n",
    "plt.plot(x3, y3, label = \"Recall\")\n",
    "plt.xlabel('Epochs')\n",
    "plt.ylabel('Recall')\n",
    "plt.title('LSTM MODEL Recall')\n",
    "plt.legend(facecolor='white', framealpha=1)\n",
    "plt.savefig('lstmonlyr.png')\n",
    "plt.show()"
   ]
  },
  {
   "cell_type": "code",
   "execution_count": 101,
   "metadata": {},
   "outputs": [
    {
     "data": {
      "image/png": "[encoded data removed]",
      "text/plain": [
       "<IPython.core.display.Image object>"
      ]
     },
     "execution_count": 101,
     "metadata": {},
     "output_type": "execute_result"
    }
   ],
   "source": [
    "from keras.utils import plot_model\n",
    "plot_model(model_glove, to_file='lstmonlymodel.png')\n"
   ]
  },
  {
   "cell_type": "code",
   "execution_count": null,
   "metadata": {},
   "outputs": [],
   "source": []
  }
 ],
 "metadata": {
  "accelerator": "GPU",
  "colab": {
   "collapsed_sections": [],
   "name": "tweetSenti.ipynb",
   "provenance": []
  },
  "kernelspec": {
   "display_name": "Python 3",
   "language": "python",
   "name": "python3"
  },
  "language_info": {
   "codemirror_mode": {
    "name": "ipython",
    "version": 3
   },
   "file_extension": ".py",
   "mimetype": "text/x-python",
   "name": "python",
   "nbconvert_exporter": "python",
   "pygments_lexer": "ipython3",
   "version": "3.5.3"
  }
 },
 "nbformat": 4,
 "nbformat_minor": 1
}
